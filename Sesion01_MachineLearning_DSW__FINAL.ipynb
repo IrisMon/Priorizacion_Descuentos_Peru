{
  "nbformat": 4,
  "nbformat_minor": 0,
  "metadata": {
    "kernelspec": {
      "display_name": "Python 3",
      "language": "python",
      "name": "python3"
    },
    "language_info": {
      "codemirror_mode": {
        "name": "ipython",
        "version": 3
      },
      "file_extension": ".py",
      "mimetype": "text/x-python",
      "name": "python",
      "nbconvert_exporter": "python",
      "pygments_lexer": "ipython3",
      "version": "3.6.3"
    },
    "toc": {
      "base_numbering": 1,
      "nav_menu": {},
      "number_sections": true,
      "sideBar": true,
      "skip_h1_title": false,
      "title_cell": "Table of Contents",
      "title_sidebar": "Contents",
      "toc_cell": false,
      "toc_position": {
        "height": "calc(100% - 180px)",
        "left": "10px",
        "top": "150px",
        "width": "165px"
      },
      "toc_section_display": true,
      "toc_window_display": false
    },
    "varInspector": {
      "cols": {
        "lenName": 16,
        "lenType": 16,
        "lenVar": 40
      },
      "kernels_config": {
        "python": {
          "delete_cmd_postfix": "",
          "delete_cmd_prefix": "del ",
          "library": "var_list.py",
          "varRefreshCmd": "print(var_dic_list())"
        },
        "r": {
          "delete_cmd_postfix": ") ",
          "delete_cmd_prefix": "rm(",
          "library": "var_list.r",
          "varRefreshCmd": "cat(var_dic_list()) "
        }
      },
      "types_to_exclude": [
        "module",
        "function",
        "builtin_function_or_method",
        "instance",
        "_Feature"
      ],
      "window_display": false
    },
    "colab": {
      "name": "Sesion01_MachineLearning_DSW _FINAL.ipynb",
      "provenance": [],
      "collapsed_sections": [],
      "include_colab_link": true
    }
  },
  "cells": [
    {
      "cell_type": "markdown",
      "metadata": {
        "id": "view-in-github",
        "colab_type": "text"
      },
      "source": [
        "<a href=\"https://colab.research.google.com/github/guelpman/Priorizacion_Descuentos_Peru/blob/main/Sesion01_MachineLearning_DSW__FINAL.ipynb\" target=\"_parent\"><img src=\"https://colab.research.google.com/assets/colab-badge.svg\" alt=\"Open In Colab\"/></a>"
      ]
    },
    {
      "cell_type": "code",
      "metadata": {
        "id": "JQ_NwYf-Nl-U"
      },
      "source": [
        "############## -- Machine Learning - DSW --##############################\n",
        "# Tema : Desarrollo y Productivo de Algoritmos de Machine Learning\n",
        "# Autor : André Chávez \n",
        "# email: andre.chavez@urp.edu.pe\n",
        "# version: 1.0\n",
        "#########################################################################"
      ],
      "execution_count": null,
      "outputs": []
    },
    {
      "cell_type": "code",
      "metadata": {
        "id": "K8zvUXNVNl-a"
      },
      "source": [
        "##################################################\n",
        "## Desarrollo de Modelos de Machine Learning\n",
        "##################################################"
      ],
      "execution_count": null,
      "outputs": []
    },
    {
      "cell_type": "code",
      "metadata": {
        "id": "H0oJtOj5lmXu"
      },
      "source": [
        "# Nos conectamos al Drive"
      ],
      "execution_count": null,
      "outputs": []
    },
    {
      "cell_type": "code",
      "metadata": {
        "id": "_bFUpcHhlmey",
        "colab": {
          "base_uri": "https://localhost:8080/",
          "height": 122
        },
        "outputId": "5bb56893-1570-4948-d64b-a6047aecc3c1"
      },
      "source": [
        "from google.colab import drive\n",
        "drive.mount('/content/drive')"
      ],
      "execution_count": null,
      "outputs": [
        {
          "output_type": "stream",
          "text": [
            "Go to this URL in a browser: https://accounts.google.com/o/oauth2/auth?client_id=947318989803-6bn6qk8qdgf4n4g3pfee6491hc0brc4i.apps.googleusercontent.com&redirect_uri=urn%3aietf%3awg%3aoauth%3a2.0%3aoob&response_type=code&scope=email%20https%3a%2f%2fwww.googleapis.com%2fauth%2fdocs.test%20https%3a%2f%2fwww.googleapis.com%2fauth%2fdrive%20https%3a%2f%2fwww.googleapis.com%2fauth%2fdrive.photos.readonly%20https%3a%2f%2fwww.googleapis.com%2fauth%2fpeopleapi.readonly\n",
            "\n",
            "Enter your authorization code:\n",
            "··········\n",
            "Mounted at /content/drive\n"
          ],
          "name": "stdout"
        }
      ]
    },
    {
      "cell_type": "code",
      "metadata": {
        "id": "WMK6JuifNl-c"
      },
      "source": [
        "## Leemos las librerias necesarias para poder trabajar"
      ],
      "execution_count": null,
      "outputs": []
    },
    {
      "cell_type": "code",
      "metadata": {
        "id": "dJyX6aZqNl-e",
        "colab": {
          "base_uri": "https://localhost:8080/",
          "height": 71
        },
        "outputId": "2b31a1a0-3a11-42f0-eb0a-8145f0a75025"
      },
      "source": [
        "#Importar las librerías necesarias en Python.\n",
        "import pandas as pd ## Manejo de dataframes o set de datos\n",
        "import warnings\n",
        "import matplotlib.pyplot as plt2 ## Todo lo referente a gráficas y demás.\n",
        "import matplotlib as plt\n",
        "import numpy as np ## Todo lo referente a trabajar con vectores y matrices\n",
        "from scipy import stats ## Herramientas y algoritmos matemáticos para python\n",
        "import seaborn as sns # Se basa en Matplotlib y la complementa en el tema de graficos y demás.\n",
        "\n",
        "%matplotlib inline\n",
        "warnings.filterwarnings(\"ignore\")"
      ],
      "execution_count": null,
      "outputs": [
        {
          "output_type": "stream",
          "text": [
            "/usr/local/lib/python3.6/dist-packages/statsmodels/tools/_testing.py:19: FutureWarning: pandas.util.testing is deprecated. Use the functions in the public API at pandas.testing instead.\n",
            "  import pandas.util.testing as tm\n"
          ],
          "name": "stderr"
        }
      ]
    },
    {
      "cell_type": "code",
      "metadata": {
        "id": "Pc2SfMZ5Nl-h"
      },
      "source": [
        "## Leemos los datos o el dataset a trabajar"
      ],
      "execution_count": null,
      "outputs": []
    },
    {
      "cell_type": "code",
      "metadata": {
        "id": "-FOJaJ9hNl-k"
      },
      "source": [
        "# Leemos la data de desarrollo de modeolos\n",
        "desarrll = pd.read_csv(\"/content/drive/My Drive/DSW - MachineLearning/train.csv\") \n",
        "# Leer el dataset en un dataframe usando pandas"
      ],
      "execution_count": null,
      "outputs": []
    },
    {
      "cell_type": "code",
      "metadata": {
        "id": "hxo2oOsZNl-o",
        "colab": {
          "base_uri": "https://localhost:8080/",
          "height": 162
        },
        "outputId": "bc81bbf0-dcbe-46a3-b949-6a234d7049c6"
      },
      "source": [
        "desarrll.head(3)"
      ],
      "execution_count": null,
      "outputs": [
        {
          "output_type": "execute_result",
          "data": {
            "text/html": [
              "<div>\n",
              "<style scoped>\n",
              "    .dataframe tbody tr th:only-of-type {\n",
              "        vertical-align: middle;\n",
              "    }\n",
              "\n",
              "    .dataframe tbody tr th {\n",
              "        vertical-align: top;\n",
              "    }\n",
              "\n",
              "    .dataframe thead th {\n",
              "        text-align: right;\n",
              "    }\n",
              "</style>\n",
              "<table border=\"1\" class=\"dataframe\">\n",
              "  <thead>\n",
              "    <tr style=\"text-align: right;\">\n",
              "      <th></th>\n",
              "      <th>Loan_ID</th>\n",
              "      <th>Gender</th>\n",
              "      <th>Married</th>\n",
              "      <th>Dependents</th>\n",
              "      <th>Education</th>\n",
              "      <th>Self_Employed</th>\n",
              "      <th>ApplicantIncome</th>\n",
              "      <th>CoapplicantIncome</th>\n",
              "      <th>LoanAmount</th>\n",
              "      <th>Loan_Amount_Term</th>\n",
              "      <th>Credit_History</th>\n",
              "      <th>Property_Area</th>\n",
              "      <th>Loan_Status</th>\n",
              "    </tr>\n",
              "  </thead>\n",
              "  <tbody>\n",
              "    <tr>\n",
              "      <th>0</th>\n",
              "      <td>LP001002</td>\n",
              "      <td>Male</td>\n",
              "      <td>No</td>\n",
              "      <td>0</td>\n",
              "      <td>Graduate</td>\n",
              "      <td>No</td>\n",
              "      <td>5849</td>\n",
              "      <td>0.0</td>\n",
              "      <td>NaN</td>\n",
              "      <td>360.0</td>\n",
              "      <td>1.0</td>\n",
              "      <td>Urban</td>\n",
              "      <td>Y</td>\n",
              "    </tr>\n",
              "    <tr>\n",
              "      <th>1</th>\n",
              "      <td>LP001003</td>\n",
              "      <td>Male</td>\n",
              "      <td>Yes</td>\n",
              "      <td>1</td>\n",
              "      <td>Graduate</td>\n",
              "      <td>No</td>\n",
              "      <td>4583</td>\n",
              "      <td>1508.0</td>\n",
              "      <td>128.0</td>\n",
              "      <td>360.0</td>\n",
              "      <td>1.0</td>\n",
              "      <td>Rural</td>\n",
              "      <td>N</td>\n",
              "    </tr>\n",
              "    <tr>\n",
              "      <th>2</th>\n",
              "      <td>LP001005</td>\n",
              "      <td>Male</td>\n",
              "      <td>Yes</td>\n",
              "      <td>0</td>\n",
              "      <td>Graduate</td>\n",
              "      <td>Yes</td>\n",
              "      <td>3000</td>\n",
              "      <td>0.0</td>\n",
              "      <td>66.0</td>\n",
              "      <td>360.0</td>\n",
              "      <td>1.0</td>\n",
              "      <td>Urban</td>\n",
              "      <td>Y</td>\n",
              "    </tr>\n",
              "  </tbody>\n",
              "</table>\n",
              "</div>"
            ],
            "text/plain": [
              "    Loan_ID Gender Married  ... Credit_History Property_Area Loan_Status\n",
              "0  LP001002   Male      No  ...            1.0         Urban           Y\n",
              "1  LP001003   Male     Yes  ...            1.0         Rural           N\n",
              "2  LP001005   Male     Yes  ...            1.0         Urban           Y\n",
              "\n",
              "[3 rows x 13 columns]"
            ]
          },
          "metadata": {
            "tags": []
          },
          "execution_count": 5
        }
      ]
    },
    {
      "cell_type": "code",
      "metadata": {
        "id": "MuCzH3UPNl-s",
        "colab": {
          "base_uri": "https://localhost:8080/",
          "height": 34
        },
        "outputId": "f3dcb786-efc7-4db2-e2a8-85b932417b9d"
      },
      "source": [
        "# Dimension\n",
        "desarrll.shape\n",
        "# Son 614 obs con 13 columnas"
      ],
      "execution_count": null,
      "outputs": [
        {
          "output_type": "execute_result",
          "data": {
            "text/plain": [
              "(614, 13)"
            ]
          },
          "metadata": {
            "tags": []
          },
          "execution_count": 6
        }
      ]
    },
    {
      "cell_type": "code",
      "metadata": {
        "id": "S0sCcv7qNl-u",
        "colab": {
          "base_uri": "https://localhost:8080/",
          "height": 357
        },
        "outputId": "a62c33ce-599f-41f2-82d5-08d46a2713ac"
      },
      "source": [
        "#Leer los primeros registros.\n",
        "# Podemos ver la estructura de los datos, es el str de Python\n",
        "desarrll.info()"
      ],
      "execution_count": null,
      "outputs": [
        {
          "output_type": "stream",
          "text": [
            "<class 'pandas.core.frame.DataFrame'>\n",
            "RangeIndex: 614 entries, 0 to 613\n",
            "Data columns (total 13 columns):\n",
            " #   Column             Non-Null Count  Dtype  \n",
            "---  ------             --------------  -----  \n",
            " 0   Loan_ID            614 non-null    object \n",
            " 1   Gender             601 non-null    object \n",
            " 2   Married            611 non-null    object \n",
            " 3   Dependents         599 non-null    object \n",
            " 4   Education          614 non-null    object \n",
            " 5   Self_Employed      582 non-null    object \n",
            " 6   ApplicantIncome    614 non-null    int64  \n",
            " 7   CoapplicantIncome  614 non-null    float64\n",
            " 8   LoanAmount         592 non-null    float64\n",
            " 9   Loan_Amount_Term   600 non-null    float64\n",
            " 10  Credit_History     564 non-null    float64\n",
            " 11  Property_Area      614 non-null    object \n",
            " 12  Loan_Status        614 non-null    object \n",
            "dtypes: float64(4), int64(1), object(8)\n",
            "memory usage: 62.5+ KB\n"
          ],
          "name": "stdout"
        }
      ]
    },
    {
      "cell_type": "code",
      "metadata": {
        "id": "MG6o64k8Nl-w"
      },
      "source": [
        "## Analisis Exploratorio de los datos"
      ],
      "execution_count": null,
      "outputs": []
    },
    {
      "cell_type": "code",
      "metadata": {
        "id": "k9qxjWopNl-0"
      },
      "source": [
        "#### Recurso: https://www.analyticsvidhya.com/blog/2014/07/statistics/"
      ],
      "execution_count": null,
      "outputs": []
    },
    {
      "cell_type": "code",
      "metadata": {
        "id": "825LXlmiNl-2",
        "colab": {
          "base_uri": "https://localhost:8080/",
          "height": 297
        },
        "outputId": "c4417a81-f0e0-48b2-b3a9-f9005f5b16e1"
      },
      "source": [
        "desarrll.describe() #Resumen de la información cuantitativa"
      ],
      "execution_count": null,
      "outputs": [
        {
          "output_type": "execute_result",
          "data": {
            "text/html": [
              "<div>\n",
              "<style scoped>\n",
              "    .dataframe tbody tr th:only-of-type {\n",
              "        vertical-align: middle;\n",
              "    }\n",
              "\n",
              "    .dataframe tbody tr th {\n",
              "        vertical-align: top;\n",
              "    }\n",
              "\n",
              "    .dataframe thead th {\n",
              "        text-align: right;\n",
              "    }\n",
              "</style>\n",
              "<table border=\"1\" class=\"dataframe\">\n",
              "  <thead>\n",
              "    <tr style=\"text-align: right;\">\n",
              "      <th></th>\n",
              "      <th>ApplicantIncome</th>\n",
              "      <th>CoapplicantIncome</th>\n",
              "      <th>LoanAmount</th>\n",
              "      <th>Loan_Amount_Term</th>\n",
              "      <th>Credit_History</th>\n",
              "    </tr>\n",
              "  </thead>\n",
              "  <tbody>\n",
              "    <tr>\n",
              "      <th>count</th>\n",
              "      <td>614.000000</td>\n",
              "      <td>614.000000</td>\n",
              "      <td>592.000000</td>\n",
              "      <td>600.00000</td>\n",
              "      <td>564.000000</td>\n",
              "    </tr>\n",
              "    <tr>\n",
              "      <th>mean</th>\n",
              "      <td>5403.459283</td>\n",
              "      <td>1621.245798</td>\n",
              "      <td>146.412162</td>\n",
              "      <td>342.00000</td>\n",
              "      <td>0.842199</td>\n",
              "    </tr>\n",
              "    <tr>\n",
              "      <th>std</th>\n",
              "      <td>6109.041673</td>\n",
              "      <td>2926.248369</td>\n",
              "      <td>85.587325</td>\n",
              "      <td>65.12041</td>\n",
              "      <td>0.364878</td>\n",
              "    </tr>\n",
              "    <tr>\n",
              "      <th>min</th>\n",
              "      <td>150.000000</td>\n",
              "      <td>0.000000</td>\n",
              "      <td>9.000000</td>\n",
              "      <td>12.00000</td>\n",
              "      <td>0.000000</td>\n",
              "    </tr>\n",
              "    <tr>\n",
              "      <th>25%</th>\n",
              "      <td>2877.500000</td>\n",
              "      <td>0.000000</td>\n",
              "      <td>100.000000</td>\n",
              "      <td>360.00000</td>\n",
              "      <td>1.000000</td>\n",
              "    </tr>\n",
              "    <tr>\n",
              "      <th>50%</th>\n",
              "      <td>3812.500000</td>\n",
              "      <td>1188.500000</td>\n",
              "      <td>128.000000</td>\n",
              "      <td>360.00000</td>\n",
              "      <td>1.000000</td>\n",
              "    </tr>\n",
              "    <tr>\n",
              "      <th>75%</th>\n",
              "      <td>5795.000000</td>\n",
              "      <td>2297.250000</td>\n",
              "      <td>168.000000</td>\n",
              "      <td>360.00000</td>\n",
              "      <td>1.000000</td>\n",
              "    </tr>\n",
              "    <tr>\n",
              "      <th>max</th>\n",
              "      <td>81000.000000</td>\n",
              "      <td>41667.000000</td>\n",
              "      <td>700.000000</td>\n",
              "      <td>480.00000</td>\n",
              "      <td>1.000000</td>\n",
              "    </tr>\n",
              "  </tbody>\n",
              "</table>\n",
              "</div>"
            ],
            "text/plain": [
              "       ApplicantIncome  CoapplicantIncome  ...  Loan_Amount_Term  Credit_History\n",
              "count       614.000000         614.000000  ...         600.00000      564.000000\n",
              "mean       5403.459283        1621.245798  ...         342.00000        0.842199\n",
              "std        6109.041673        2926.248369  ...          65.12041        0.364878\n",
              "min         150.000000           0.000000  ...          12.00000        0.000000\n",
              "25%        2877.500000           0.000000  ...         360.00000        1.000000\n",
              "50%        3812.500000        1188.500000  ...         360.00000        1.000000\n",
              "75%        5795.000000        2297.250000  ...         360.00000        1.000000\n",
              "max       81000.000000       41667.000000  ...         480.00000        1.000000\n",
              "\n",
              "[8 rows x 5 columns]"
            ]
          },
          "metadata": {
            "tags": []
          },
          "execution_count": 8
        }
      ]
    },
    {
      "cell_type": "markdown",
      "metadata": {
        "id": "_PVOSLfoNl-6"
      },
      "source": [
        "La función describe () proporcionaría count - conteo o número de elementos, mean - media, standard deviation (std) - desviación estándar, min - mínimo, cuartiles y max - máximo en su salida. Sólo considera las variables en formato de número."
      ]
    },
    {
      "cell_type": "code",
      "metadata": {
        "id": "gQGTwCZkNl_B"
      },
      "source": [
        "# Gráficos para variables cuantitativas\n",
        "#Histogramas y Cajas"
      ],
      "execution_count": null,
      "outputs": []
    },
    {
      "cell_type": "code",
      "metadata": {
        "id": "cUOC0hiONl_Q",
        "colab": {
          "base_uri": "https://localhost:8080/",
          "height": 298
        },
        "outputId": "09075c4a-e361-4ab9-a906-748d5d282362"
      },
      "source": [
        "# Gráfico de Cajas\n",
        "import pandas as pd\n",
        "%matplotlib inline\n",
        "import matplotlib.pyplot as plt\n",
        "plt.title('Gráfico de Cajas de LoanAmount')\n",
        "#train.boxplot(column='LoanAmount',showfliers='T',notch=0, sym='+', vert=1, whis=1.5)\n",
        "desarrll.boxplot(column='LoanAmount')"
      ],
      "execution_count": null,
      "outputs": [
        {
          "output_type": "execute_result",
          "data": {
            "text/plain": [
              "<matplotlib.axes._subplots.AxesSubplot at 0x7ffa36e39780>"
            ]
          },
          "metadata": {
            "tags": []
          },
          "execution_count": 10
        },
        {
          "output_type": "display_data",
          "data": {
            "image/png": "[encoded data removed]",
            "text/plain": [
              "<Figure size 432x288 with 1 Axes>"
            ]
          },
          "metadata": {
            "tags": [],
            "needs_background": "light"
          }
        }
      ]
    },
    {
      "cell_type": "code",
      "metadata": {
        "id": "VPHZmRk3Nl_W",
        "colab": {
          "base_uri": "https://localhost:8080/",
          "height": 319
        },
        "outputId": "0b345abc-07cf-4bf3-b097-ef4e123b0055"
      },
      "source": [
        "desarrll.boxplot('LoanAmount',by='Self_Employed')"
      ],
      "execution_count": null,
      "outputs": [
        {
          "output_type": "execute_result",
          "data": {
            "text/plain": [
              "<matplotlib.axes._subplots.AxesSubplot at 0x7ffa36503518>"
            ]
          },
          "metadata": {
            "tags": []
          },
          "execution_count": 16
        },
        {
          "output_type": "display_data",
          "data": {
            "image/png": "[encoded data removed]",
            "text/plain": [
              "<Figure size 432x288 with 1 Axes>"
            ]
          },
          "metadata": {
            "tags": [],
            "needs_background": "light"
          }
        }
      ]
    },
    {
      "cell_type": "code",
      "metadata": {
        "id": "M7E7ncrCC6Yl",
        "colab": {
          "base_uri": "https://localhost:8080/",
          "height": 162
        },
        "outputId": "6cb53f3c-ccc9-4baf-f80a-0ad7486fad49"
      },
      "source": [
        "desarrll.head(3)"
      ],
      "execution_count": null,
      "outputs": [
        {
          "output_type": "execute_result",
          "data": {
            "text/html": [
              "<div>\n",
              "<style scoped>\n",
              "    .dataframe tbody tr th:only-of-type {\n",
              "        vertical-align: middle;\n",
              "    }\n",
              "\n",
              "    .dataframe tbody tr th {\n",
              "        vertical-align: top;\n",
              "    }\n",
              "\n",
              "    .dataframe thead th {\n",
              "        text-align: right;\n",
              "    }\n",
              "</style>\n",
              "<table border=\"1\" class=\"dataframe\">\n",
              "  <thead>\n",
              "    <tr style=\"text-align: right;\">\n",
              "      <th></th>\n",
              "      <th>Loan_ID</th>\n",
              "      <th>Gender</th>\n",
              "      <th>Married</th>\n",
              "      <th>Dependents</th>\n",
              "      <th>Education</th>\n",
              "      <th>Self_Employed</th>\n",
              "      <th>ApplicantIncome</th>\n",
              "      <th>CoapplicantIncome</th>\n",
              "      <th>LoanAmount</th>\n",
              "      <th>Loan_Amount_Term</th>\n",
              "      <th>Credit_History</th>\n",
              "      <th>Property_Area</th>\n",
              "      <th>Loan_Status</th>\n",
              "    </tr>\n",
              "  </thead>\n",
              "  <tbody>\n",
              "    <tr>\n",
              "      <th>0</th>\n",
              "      <td>LP001002</td>\n",
              "      <td>Male</td>\n",
              "      <td>No</td>\n",
              "      <td>0</td>\n",
              "      <td>Graduate</td>\n",
              "      <td>No</td>\n",
              "      <td>5849</td>\n",
              "      <td>0.0</td>\n",
              "      <td>NaN</td>\n",
              "      <td>360.0</td>\n",
              "      <td>1.0</td>\n",
              "      <td>Urban</td>\n",
              "      <td>Y</td>\n",
              "    </tr>\n",
              "    <tr>\n",
              "      <th>1</th>\n",
              "      <td>LP001003</td>\n",
              "      <td>Male</td>\n",
              "      <td>Yes</td>\n",
              "      <td>1</td>\n",
              "      <td>Graduate</td>\n",
              "      <td>No</td>\n",
              "      <td>4583</td>\n",
              "      <td>1508.0</td>\n",
              "      <td>128.0</td>\n",
              "      <td>360.0</td>\n",
              "      <td>1.0</td>\n",
              "      <td>Rural</td>\n",
              "      <td>N</td>\n",
              "    </tr>\n",
              "    <tr>\n",
              "      <th>2</th>\n",
              "      <td>LP001005</td>\n",
              "      <td>Male</td>\n",
              "      <td>Yes</td>\n",
              "      <td>0</td>\n",
              "      <td>Graduate</td>\n",
              "      <td>Yes</td>\n",
              "      <td>3000</td>\n",
              "      <td>0.0</td>\n",
              "      <td>66.0</td>\n",
              "      <td>360.0</td>\n",
              "      <td>1.0</td>\n",
              "      <td>Urban</td>\n",
              "      <td>Y</td>\n",
              "    </tr>\n",
              "  </tbody>\n",
              "</table>\n",
              "</div>"
            ],
            "text/plain": [
              "    Loan_ID Gender Married  ... Credit_History Property_Area Loan_Status\n",
              "0  LP001002   Male      No  ...            1.0         Urban           Y\n",
              "1  LP001003   Male     Yes  ...            1.0         Rural           N\n",
              "2  LP001005   Male     Yes  ...            1.0         Urban           Y\n",
              "\n",
              "[3 rows x 13 columns]"
            ]
          },
          "metadata": {
            "tags": []
          },
          "execution_count": 12
        }
      ]
    },
    {
      "cell_type": "code",
      "metadata": {
        "id": "2zma5AfoNl_j"
      },
      "source": [
        "########################################\n",
        "# Tratamiento de valores missings\n",
        "########################################"
      ],
      "execution_count": null,
      "outputs": []
    },
    {
      "cell_type": "code",
      "metadata": {
        "id": "fbh8kr2ENl_l",
        "colab": {
          "base_uri": "https://localhost:8080/",
          "height": 255
        },
        "outputId": "de3f766f-c389-472e-b7c9-23fe9ba62074"
      },
      "source": [
        "desarrll.isnull().sum()"
      ],
      "execution_count": null,
      "outputs": [
        {
          "output_type": "execute_result",
          "data": {
            "text/plain": [
              "Loan_ID               0\n",
              "Gender               13\n",
              "Married               3\n",
              "Dependents           15\n",
              "Education             0\n",
              "Self_Employed        32\n",
              "ApplicantIncome       0\n",
              "CoapplicantIncome     0\n",
              "LoanAmount           22\n",
              "Loan_Amount_Term     14\n",
              "Credit_History       50\n",
              "Property_Area         0\n",
              "Loan_Status           0\n",
              "dtype: int64"
            ]
          },
          "metadata": {
            "tags": []
          },
          "execution_count": 17
        }
      ]
    },
    {
      "cell_type": "code",
      "metadata": {
        "id": "78f1JN0kNl_o"
      },
      "source": [
        "# No olvidemos separar las variables cualitativas para poder trabajarlas eficientemente\n",
        "columnas_categoricas = [\"Gender\",\"Married\",\"Education\",\"Self_Employed\",\"Property_Area\",\"Dependents\",\"Loan_Status\"]"
      ],
      "execution_count": null,
      "outputs": []
    },
    {
      "cell_type": "code",
      "metadata": {
        "id": "71eYvpQvNl_r"
      },
      "source": [
        "# Separamos las columnas numericas\n",
        "columnas_numericas = [\"ApplicantIncome\",\"CoapplicantIncome\",\"LoanAmount\",\"Loan_Amount_Term\"]"
      ],
      "execution_count": null,
      "outputs": []
    },
    {
      "cell_type": "code",
      "metadata": {
        "id": "dhXdHjJQNl_u",
        "colab": {
          "base_uri": "https://localhost:8080/",
          "height": 85
        },
        "outputId": "df4d246b-454c-411c-f591-f4e64e73cf00"
      },
      "source": [
        "# Visualizamos los valores perdidos respecto a las variables cualititativas\n",
        "desarrll.Gender.value_counts(dropna=False)"
      ],
      "execution_count": null,
      "outputs": [
        {
          "output_type": "execute_result",
          "data": {
            "text/plain": [
              "Male      489\n",
              "Female    112\n",
              "NaN        13\n",
              "Name: Gender, dtype: int64"
            ]
          },
          "metadata": {
            "tags": []
          },
          "execution_count": 20
        }
      ]
    },
    {
      "cell_type": "code",
      "metadata": {
        "id": "1d-CD5i9Nl_4"
      },
      "source": [
        "# Imputamos los valores cualitativos por Moda\n",
        "desarrll.Gender = desarrll.Gender.fillna(\"Male\")\n",
        "desarrll.Married = desarrll.Married.fillna(\"Yes\")\n",
        "desarrll.Self_Employed = desarrll.Self_Employed.fillna(\"Yes\")\n",
        "desarrll.Credit_History = desarrll.Credit_History.fillna(\"1\")\n",
        "desarrll.Dependents = desarrll.Dependents.fillna(\"0\")"
      ],
      "execution_count": null,
      "outputs": []
    },
    {
      "cell_type": "code",
      "metadata": {
        "id": "ivlipWe6Nl_-",
        "colab": {
          "base_uri": "https://localhost:8080/",
          "height": 136
        },
        "outputId": "6237bc2a-85d1-4d4e-cb4f-c902028bb321"
      },
      "source": [
        "# Preprocesamiento con LabelEncoder\n",
        "from sklearn.preprocessing import LabelEncoder # PasoN°01: Importo la libreria a usar\n",
        "for c in columnas_categoricas:\n",
        "    print(str(c))\n",
        "    le = LabelEncoder()                     #   PasoN°02: Instancio la funcion a desarrollar\n",
        "    le.fit(desarrll[str(c)])                #   PasoN°03: Ajusto la funcion\n",
        "    desarrll[str(c)]=le.transform(desarrll[str(c)]) #   PasoN°04: Ejecuto la funcion"
      ],
      "execution_count": null,
      "outputs": [
        {
          "output_type": "stream",
          "text": [
            "Gender\n",
            "Married\n",
            "Education\n",
            "Self_Employed\n",
            "Property_Area\n",
            "Dependents\n",
            "Loan_Status\n"
          ],
          "name": "stdout"
        }
      ]
    },
    {
      "cell_type": "code",
      "metadata": {
        "id": "SDZB3R5PNmAM"
      },
      "source": [
        "# Imputamos los valores cuantitativos por Media o Mediana\n",
        "## Median\n",
        "for c in columnas_numericas:\n",
        "    median = desarrll[c].median()\n",
        "    desarrll[c].fillna(median, inplace=True)"
      ],
      "execution_count": null,
      "outputs": []
    },
    {
      "cell_type": "code",
      "metadata": {
        "id": "xVJ7145UNmAS",
        "colab": {
          "base_uri": "https://localhost:8080/",
          "height": 255
        },
        "outputId": "34570a97-7ea8-4545-c086-8c3ab7a64b1d"
      },
      "source": [
        "# Revisamos si la recodigicación fue la idónea\n",
        "desarrll.isnull().sum()"
      ],
      "execution_count": null,
      "outputs": [
        {
          "output_type": "execute_result",
          "data": {
            "text/plain": [
              "Loan_ID              0\n",
              "Gender               0\n",
              "Married              0\n",
              "Dependents           0\n",
              "Education            0\n",
              "Self_Employed        0\n",
              "ApplicantIncome      0\n",
              "CoapplicantIncome    0\n",
              "LoanAmount           0\n",
              "Loan_Amount_Term     0\n",
              "Credit_History       0\n",
              "Property_Area        0\n",
              "Loan_Status          0\n",
              "dtype: int64"
            ]
          },
          "metadata": {
            "tags": []
          },
          "execution_count": 24
        }
      ]
    },
    {
      "cell_type": "code",
      "metadata": {
        "id": "yrMf1eh0NmAU"
      },
      "source": [
        "########################################\n",
        "## Feature Enginnering ##\n",
        "########################################"
      ],
      "execution_count": null,
      "outputs": []
    },
    {
      "cell_type": "code",
      "metadata": {
        "id": "eP8RfZhnNmAW"
      },
      "source": [
        "## Creación de Variables por Decision de Negocio o de acuerdo a metodologías más automatizadas es el\n",
        "# corazon de Machine Learning\n",
        "# También conocido como proceso de Feature Engineering, no olvidar que todo lo que le hacemos al Train o Entrenamiento se lo\n",
        "# debemos hacer a la data de scoreo o data productiva."
      ],
      "execution_count": null,
      "outputs": []
    },
    {
      "cell_type": "code",
      "metadata": {
        "id": "qmVDOWsrNmAj"
      },
      "source": [
        "# Ingenieria de datos\n",
        "#Creamos las variables para el entrenamiento o train\n",
        "\n",
        "desarrll['TotalIncome']    = desarrll['ApplicantIncome'] + desarrll['CoapplicantIncome']\n",
        "desarrll['Log_LoanAmount'] = round(np.log(desarrll['LoanAmount']+1),2)"
      ],
      "execution_count": null,
      "outputs": []
    },
    {
      "cell_type": "code",
      "metadata": {
        "id": "bKJr8UopNmAl"
      },
      "source": [
        "desarrll['AmountxTerm']    = round(desarrll['LoanAmount']/desarrll['Loan_Amount_Term'],2)\n",
        "desarrll[\"Cuota_Ingreso1\"] = (1000*desarrll[\"LoanAmount\"]/desarrll[\"Loan_Amount_Term\"])/(desarrll[\"ApplicantIncome\"])\n",
        "desarrll[\"Cuota_Ingreso2\"] = (1000*desarrll[\"LoanAmount\"]/desarrll[\"Loan_Amount_Term\"])/(desarrll[\"TotalIncome\"])\n",
        "desarrll[\"Cuota_Ingreso_Hijo\"] = (1000*desarrll[\"LoanAmount\"]/desarrll[\"Loan_Amount_Term\"])/(desarrll[\"TotalIncome\"]/(desarrll[\"Dependents\"]+1))\n"
      ],
      "execution_count": null,
      "outputs": []
    },
    {
      "cell_type": "code",
      "metadata": {
        "id": "FcpLQdQLNmAn"
      },
      "source": [
        "# Revisamos las variables creadas, derrepente queremos crear algunas más?\n",
        "#desarrll.shape"
      ],
      "execution_count": null,
      "outputs": []
    },
    {
      "cell_type": "code",
      "metadata": {
        "id": "C-Kzb8ocNmAv"
      },
      "source": [
        "########################################\n",
        "# Particion Muestral de los datos\n",
        "########################################"
      ],
      "execution_count": null,
      "outputs": []
    },
    {
      "cell_type": "code",
      "metadata": {
        "id": "Bc1mkQGLNmAy"
      },
      "source": [
        "# Le quitamos la variable Loan_ID o identificador único para poder modelar la información \n",
        "desarrll = desarrll.drop('Loan_ID',axis=1)"
      ],
      "execution_count": null,
      "outputs": []
    },
    {
      "cell_type": "code",
      "metadata": {
        "id": "0LtuyMl8NmA2"
      },
      "source": [
        "## Si deseamos balancear, podemos hacerlo con toda la informacion?\n",
        "# Creación de la data de train y la data de test\n",
        "from sklearn.model_selection import train_test_split\n",
        "X_train, X_test, y_train, y_test = train_test_split(desarrll.drop('Loan_Status', axis=1), # (X,y,%test,estratificacion)\n",
        "                                                    desarrll['Loan_Status'], \n",
        "                                                    test_size=0.30,\n",
        "                                                    stratify=desarrll['Loan_Status'],\n",
        "                                                    random_state=100)"
      ],
      "execution_count": null,
      "outputs": []
    },
    {
      "cell_type": "code",
      "metadata": {
        "id": "lDEVNsPXNmA5"
      },
      "source": [
        "########################################\n",
        "# Selección de Variables\n",
        "########################################"
      ],
      "execution_count": null,
      "outputs": []
    },
    {
      "cell_type": "code",
      "metadata": {
        "id": "cCQlkBa1NmA7"
      },
      "source": [
        "import matplotlib.pyplot as plt\n",
        "from sklearn import metrics\n",
        "from sklearn.ensemble import ExtraTreesClassifier"
      ],
      "execution_count": null,
      "outputs": []
    },
    {
      "cell_type": "code",
      "metadata": {
        "id": "m5bFebpCNmBB"
      },
      "source": [
        "# Seleccion por Random Forest\n",
        "from sklearn.ensemble import RandomForestClassifier # Paso01: Instancio el algoritmo\n",
        "forest = RandomForestClassifier()                   # Paso02: Configuro el algoritmo\n",
        "forest.fit(X_train, y_train)                        # Paso03: Ajuste el algoritmo\n",
        "importances = forest.feature_importances_           # Variables importantes\n"
      ],
      "execution_count": null,
      "outputs": []
    },
    {
      "cell_type": "code",
      "metadata": {
        "id": "WMeBUm0NNmBE",
        "colab": {
          "base_uri": "https://localhost:8080/",
          "height": 576
        },
        "outputId": "f8a83b01-be0b-4dc0-fe7b-29d917f9ed8d"
      },
      "source": [
        "# Seleccion por Random Forest\n",
        "TablaImportancia = pd.concat([pd.DataFrame({'Driver':list(X_train.columns)}),\n",
        "                              pd.DataFrame({'Importancia':list(forest.feature_importances_)})], axis = 1)\n",
        "ImportanciaVariables = TablaImportancia[['Driver','Importancia']].sort_values('Importancia', ascending = False).reset_index(drop = True)\n",
        "ImportanciaVariables"
      ],
      "execution_count": null,
      "outputs": [
        {
          "output_type": "execute_result",
          "data": {
            "text/html": [
              "<div>\n",
              "<style scoped>\n",
              "    .dataframe tbody tr th:only-of-type {\n",
              "        vertical-align: middle;\n",
              "    }\n",
              "\n",
              "    .dataframe tbody tr th {\n",
              "        vertical-align: top;\n",
              "    }\n",
              "\n",
              "    .dataframe thead th {\n",
              "        text-align: right;\n",
              "    }\n",
              "</style>\n",
              "<table border=\"1\" class=\"dataframe\">\n",
              "  <thead>\n",
              "    <tr style=\"text-align: right;\">\n",
              "      <th></th>\n",
              "      <th>Driver</th>\n",
              "      <th>Importancia</th>\n",
              "    </tr>\n",
              "  </thead>\n",
              "  <tbody>\n",
              "    <tr>\n",
              "      <th>0</th>\n",
              "      <td>Credit_History</td>\n",
              "      <td>0.228006</td>\n",
              "    </tr>\n",
              "    <tr>\n",
              "      <th>1</th>\n",
              "      <td>TotalIncome</td>\n",
              "      <td>0.092233</td>\n",
              "    </tr>\n",
              "    <tr>\n",
              "      <th>2</th>\n",
              "      <td>Cuota_Ingreso1</td>\n",
              "      <td>0.091105</td>\n",
              "    </tr>\n",
              "    <tr>\n",
              "      <th>3</th>\n",
              "      <td>Cuota_Ingreso2</td>\n",
              "      <td>0.087735</td>\n",
              "    </tr>\n",
              "    <tr>\n",
              "      <th>4</th>\n",
              "      <td>Cuota_Ingreso_Hijo</td>\n",
              "      <td>0.082622</td>\n",
              "    </tr>\n",
              "    <tr>\n",
              "      <th>5</th>\n",
              "      <td>ApplicantIncome</td>\n",
              "      <td>0.079962</td>\n",
              "    </tr>\n",
              "    <tr>\n",
              "      <th>6</th>\n",
              "      <td>LoanAmount</td>\n",
              "      <td>0.067589</td>\n",
              "    </tr>\n",
              "    <tr>\n",
              "      <th>7</th>\n",
              "      <td>Log_LoanAmount</td>\n",
              "      <td>0.062512</td>\n",
              "    </tr>\n",
              "    <tr>\n",
              "      <th>8</th>\n",
              "      <td>AmountxTerm</td>\n",
              "      <td>0.059159</td>\n",
              "    </tr>\n",
              "    <tr>\n",
              "      <th>9</th>\n",
              "      <td>CoapplicantIncome</td>\n",
              "      <td>0.047807</td>\n",
              "    </tr>\n",
              "    <tr>\n",
              "      <th>10</th>\n",
              "      <td>Property_Area</td>\n",
              "      <td>0.027898</td>\n",
              "    </tr>\n",
              "    <tr>\n",
              "      <th>11</th>\n",
              "      <td>Loan_Amount_Term</td>\n",
              "      <td>0.016805</td>\n",
              "    </tr>\n",
              "    <tr>\n",
              "      <th>12</th>\n",
              "      <td>Dependents</td>\n",
              "      <td>0.015793</td>\n",
              "    </tr>\n",
              "    <tr>\n",
              "      <th>13</th>\n",
              "      <td>Education</td>\n",
              "      <td>0.012611</td>\n",
              "    </tr>\n",
              "    <tr>\n",
              "      <th>14</th>\n",
              "      <td>Married</td>\n",
              "      <td>0.010037</td>\n",
              "    </tr>\n",
              "    <tr>\n",
              "      <th>15</th>\n",
              "      <td>Gender</td>\n",
              "      <td>0.009345</td>\n",
              "    </tr>\n",
              "    <tr>\n",
              "      <th>16</th>\n",
              "      <td>Self_Employed</td>\n",
              "      <td>0.008781</td>\n",
              "    </tr>\n",
              "  </tbody>\n",
              "</table>\n",
              "</div>"
            ],
            "text/plain": [
              "                Driver  Importancia\n",
              "0       Credit_History     0.228006\n",
              "1          TotalIncome     0.092233\n",
              "2       Cuota_Ingreso1     0.091105\n",
              "3       Cuota_Ingreso2     0.087735\n",
              "4   Cuota_Ingreso_Hijo     0.082622\n",
              "5      ApplicantIncome     0.079962\n",
              "6           LoanAmount     0.067589\n",
              "7       Log_LoanAmount     0.062512\n",
              "8          AmountxTerm     0.059159\n",
              "9    CoapplicantIncome     0.047807\n",
              "10       Property_Area     0.027898\n",
              "11    Loan_Amount_Term     0.016805\n",
              "12          Dependents     0.015793\n",
              "13           Education     0.012611\n",
              "14             Married     0.010037\n",
              "15              Gender     0.009345\n",
              "16       Self_Employed     0.008781"
            ]
          },
          "metadata": {
            "tags": []
          },
          "execution_count": 32
        }
      ]
    },
    {
      "cell_type": "code",
      "metadata": {
        "id": "-79T3gbeNmBW"
      },
      "source": [
        "########################################\n",
        "# Modelamiento de los datos\n",
        "########################################"
      ],
      "execution_count": null,
      "outputs": []
    },
    {
      "cell_type": "code",
      "metadata": {
        "id": "k0NR1mkWNmBY"
      },
      "source": [
        "## Modelos Supervisados : Regresión Logística Binaria ##"
      ],
      "execution_count": null,
      "outputs": []
    },
    {
      "cell_type": "code",
      "metadata": {
        "id": "AeWwXeI8NmBb",
        "colab": {
          "base_uri": "https://localhost:8080/",
          "height": 102
        },
        "outputId": "ef293b6d-dab6-470c-c63a-364eb284ae89"
      },
      "source": [
        "# Paso N°01: Llamar un algoritmo predictivos\n",
        "from sklearn.linear_model import LogisticRegression\n",
        "\n",
        "RegLog = LogisticRegression() # Paso N°02: Configuro el algoritmo\n",
        "RegLog.fit(X_train, y_train)  # Paso N°03: Entreno o ajusto el algoritmo predictivo a los datos\n"
      ],
      "execution_count": null,
      "outputs": [
        {
          "output_type": "execute_result",
          "data": {
            "text/plain": [
              "LogisticRegression(C=1.0, class_weight=None, dual=False, fit_intercept=True,\n",
              "                   intercept_scaling=1, l1_ratio=None, max_iter=100,\n",
              "                   multi_class='auto', n_jobs=None, penalty='l2',\n",
              "                   random_state=None, solver='lbfgs', tol=0.0001, verbose=0,\n",
              "                   warm_start=False)"
            ]
          },
          "metadata": {
            "tags": []
          },
          "execution_count": 33
        }
      ]
    },
    {
      "cell_type": "code",
      "metadata": {
        "id": "rUhtG79aNmBe"
      },
      "source": [
        "# Paso N°04: Predecir con el algoritmo entrenado para validar\n",
        "y_pred_train=RegLog.predict(X_train) # Prediccion sobre el train\n",
        "y_pred_test= RegLog.predict(X_test) # Prediccion sobre el test"
      ],
      "execution_count": null,
      "outputs": []
    },
    {
      "cell_type": "code",
      "metadata": {
        "id": "L7yeQkL4NmBg",
        "colab": {
          "base_uri": "https://localhost:8080/",
          "height": 323
        },
        "outputId": "4e1a8499-6166-4569-864d-4fd9ded0ad8b"
      },
      "source": [
        "# Paso N°05: Comparar el valor pronosticado con el valor real\n",
        "\n",
        "from sklearn import metrics as metrics\n",
        "# Matriz de confusion\n",
        "print(\"Matriz confusion: Train\")\n",
        "cm_train = metrics.confusion_matrix(y_train,y_pred_train)\n",
        "print(cm_train)\n",
        "\n",
        "print(\"Matriz confusion: Test\")\n",
        "cm_test = metrics.confusion_matrix(y_test,y_pred_test)\n",
        "print(cm_test)\n",
        "\n",
        "# Accuracy\n",
        "print(\"Accuracy: Train\")\n",
        "accuracy_train=metrics.accuracy_score(y_train,y_pred_train)\n",
        "print(accuracy_train)\n",
        "\n",
        "print(\"Accuracy: Test\")\n",
        "accuracy_test=metrics.accuracy_score(y_test,y_pred_test)\n",
        "print(accuracy_test)\n",
        "\n",
        "# Precision\n",
        "print(\"Precision: Train\")\n",
        "precision_train=metrics.precision_score(y_train,y_pred_train)\n",
        "print(precision_train)\n",
        "\n",
        "print(\"Precision: Test\")\n",
        "precision_test=metrics.precision_score(y_test,y_pred_test)\n",
        "print(precision_test)\n",
        "\n",
        "# Recall\n",
        "print(\"Recall: Train\")\n",
        "recall_train=metrics.recall_score(y_train,y_pred_train)\n",
        "print(recall_train)\n",
        "\n",
        "print(\"Recall: Test\")\n",
        "recall_test=metrics.recall_score(y_test,y_pred_test)\n",
        "print(recall_test)"
      ],
      "execution_count": null,
      "outputs": [
        {
          "output_type": "stream",
          "text": [
            "Matriz confusion: Train\n",
            "[[ 60  74]\n",
            " [  6 289]]\n",
            "Matriz confusion: Test\n",
            "[[ 24  34]\n",
            " [  1 126]]\n",
            "Accuracy: Train\n",
            "0.8135198135198135\n",
            "Accuracy: Test\n",
            "0.8108108108108109\n",
            "Precision: Train\n",
            "0.7961432506887053\n",
            "Precision: Test\n",
            "0.7875\n",
            "Recall: Train\n",
            "0.9796610169491525\n",
            "Recall: Test\n",
            "0.9921259842519685\n"
          ],
          "name": "stdout"
        }
      ]
    },
    {
      "cell_type": "code",
      "metadata": {
        "id": "odGh1TFzNmBr",
        "colab": {
          "base_uri": "https://localhost:8080/",
          "height": 68
        },
        "outputId": "30529b02-5977-49a8-9707-93bff560a55c"
      },
      "source": [
        "## Modelos Boosting : XGBoost ##\n",
        "! pip install xgboost"
      ],
      "execution_count": null,
      "outputs": [
        {
          "output_type": "stream",
          "text": [
            "Requirement already satisfied: xgboost in /usr/local/lib/python3.6/dist-packages (0.90)\n",
            "Requirement already satisfied: scipy in /usr/local/lib/python3.6/dist-packages (from xgboost) (1.4.1)\n",
            "Requirement already satisfied: numpy in /usr/local/lib/python3.6/dist-packages (from xgboost) (1.18.4)\n"
          ],
          "name": "stdout"
        }
      ]
    },
    {
      "cell_type": "code",
      "metadata": {
        "id": "KSnbgqHxNmBu"
      },
      "source": [
        "# Importamos la librería necesaria para el algoritmo\n",
        "import xgboost as xgb"
      ],
      "execution_count": null,
      "outputs": []
    },
    {
      "cell_type": "code",
      "metadata": {
        "id": "yD_eUUflNmBw"
      },
      "source": [
        "X_train.Credit_History = X_train.Credit_History.astype('int')\n",
        "X_test.Credit_History = X_test.Credit_History.astype('int')"
      ],
      "execution_count": null,
      "outputs": []
    },
    {
      "cell_type": "code",
      "metadata": {
        "id": "b3ngqP7TNmBy"
      },
      "source": [
        "# En Xgboost necesitamos convertir nuestras matrices a matriz XGboost\n",
        "# Uso eficiente de la memoria y entrenamiento rápido\n",
        "dtrain = xgb.DMatrix(data=X_train,label =  y_train)\n",
        "dtest  = xgb.DMatrix(data= X_test,label =  y_test)"
      ],
      "execution_count": null,
      "outputs": []
    },
    {
      "cell_type": "code",
      "metadata": {
        "id": "3hHrjiP3NmB0",
        "colab": {
          "base_uri": "https://localhost:8080/",
          "height": 1000
        },
        "outputId": "11b39385-beff-4c86-ab20-35bc894599a0"
      },
      "source": [
        "# Eligiendo los parámetros para XGBoost\n",
        "xgb_params = {\n",
        "    \"objective\": \"reg:logistic\",\n",
        "    \"eta\": 0.0001,\n",
        "    \"max_depth\": 3,\n",
        "    \"early_stopping_rounds\":  50,\n",
        "    \"gamma\": 0.1,\n",
        "    \"eval_metric\": \"auc\",\n",
        "    \"print_every_n\": 50\n",
        "}\n",
        "\n",
        "num_rounds = 250 # Numero de arboles\n",
        "# Aqui entrenamos el algoritmo\n",
        "watch_list  = [(dtrain,'train'),(dtest,'test')]\n",
        "xgb_fit = xgb.train(xgb_params, dtrain, num_rounds, watch_list) # Aca se guarda el algoritmo"
      ],
      "execution_count": null,
      "outputs": [
        {
          "output_type": "stream",
          "text": [
            "[0]\ttrain-auc:0.753744\ttest-auc:0.713888\n",
            "[1]\ttrain-auc:0.753959\ttest-auc:0.713888\n",
            "[2]\ttrain-auc:0.75401\ttest-auc:0.713888\n",
            "[3]\ttrain-auc:0.753959\ttest-auc:0.713888\n",
            "[4]\ttrain-auc:0.753959\ttest-auc:0.713888\n",
            "[5]\ttrain-auc:0.753959\ttest-auc:0.713888\n",
            "[6]\ttrain-auc:0.753959\ttest-auc:0.714363\n",
            "[7]\ttrain-auc:0.753959\ttest-auc:0.714363\n",
            "[8]\ttrain-auc:0.753959\ttest-auc:0.714363\n",
            "[9]\ttrain-auc:0.753959\ttest-auc:0.714363\n",
            "[10]\ttrain-auc:0.753959\ttest-auc:0.714363\n",
            "[11]\ttrain-auc:0.753959\ttest-auc:0.714363\n",
            "[12]\ttrain-auc:0.753908\ttest-auc:0.714363\n",
            "[13]\ttrain-auc:0.753959\ttest-auc:0.714363\n",
            "[14]\ttrain-auc:0.753908\ttest-auc:0.714363\n",
            "[15]\ttrain-auc:0.753858\ttest-auc:0.714363\n",
            "[16]\ttrain-auc:0.753908\ttest-auc:0.714363\n",
            "[17]\ttrain-auc:0.753858\ttest-auc:0.714363\n",
            "[18]\ttrain-auc:0.753858\ttest-auc:0.714363\n",
            "[19]\ttrain-auc:0.753858\ttest-auc:0.714363\n",
            "[20]\ttrain-auc:0.753858\ttest-auc:0.714363\n",
            "[21]\ttrain-auc:0.753858\ttest-auc:0.714363\n",
            "[22]\ttrain-auc:0.753858\ttest-auc:0.714363\n",
            "[23]\ttrain-auc:0.753858\ttest-auc:0.714363\n",
            "[24]\ttrain-auc:0.753858\ttest-auc:0.714363\n",
            "[25]\ttrain-auc:0.753858\ttest-auc:0.714363\n",
            "[26]\ttrain-auc:0.753858\ttest-auc:0.714363\n",
            "[27]\ttrain-auc:0.753858\ttest-auc:0.714363\n",
            "[28]\ttrain-auc:0.753858\ttest-auc:0.714363\n",
            "[29]\ttrain-auc:0.753858\ttest-auc:0.714363\n",
            "[30]\ttrain-auc:0.753858\ttest-auc:0.714363\n",
            "[31]\ttrain-auc:0.753858\ttest-auc:0.714363\n",
            "[32]\ttrain-auc:0.753858\ttest-auc:0.714363\n",
            "[33]\ttrain-auc:0.753706\ttest-auc:0.714363\n",
            "[34]\ttrain-auc:0.753706\ttest-auc:0.714363\n",
            "[35]\ttrain-auc:0.753706\ttest-auc:0.714363\n",
            "[36]\ttrain-auc:0.753706\ttest-auc:0.714363\n",
            "[37]\ttrain-auc:0.753706\ttest-auc:0.714363\n",
            "[38]\ttrain-auc:0.753706\ttest-auc:0.714363\n",
            "[39]\ttrain-auc:0.753655\ttest-auc:0.714363\n",
            "[40]\ttrain-auc:0.753706\ttest-auc:0.714363\n",
            "[41]\ttrain-auc:0.753655\ttest-auc:0.714363\n",
            "[42]\ttrain-auc:0.753605\ttest-auc:0.714363\n",
            "[43]\ttrain-auc:0.753655\ttest-auc:0.714363\n",
            "[44]\ttrain-auc:0.753605\ttest-auc:0.714363\n",
            "[45]\ttrain-auc:0.753554\ttest-auc:0.714363\n",
            "[46]\ttrain-auc:0.753605\ttest-auc:0.714363\n",
            "[47]\ttrain-auc:0.753554\ttest-auc:0.714363\n",
            "[48]\ttrain-auc:0.753605\ttest-auc:0.714363\n",
            "[49]\ttrain-auc:0.753554\ttest-auc:0.714363\n",
            "[50]\ttrain-auc:0.753605\ttest-auc:0.714363\n",
            "[51]\ttrain-auc:0.753554\ttest-auc:0.714363\n",
            "[52]\ttrain-auc:0.753504\ttest-auc:0.714363\n",
            "[53]\ttrain-auc:0.753554\ttest-auc:0.714363\n",
            "[54]\ttrain-auc:0.753504\ttest-auc:0.714363\n",
            "[55]\ttrain-auc:0.753554\ttest-auc:0.714363\n",
            "[56]\ttrain-auc:0.753504\ttest-auc:0.714363\n",
            "[57]\ttrain-auc:0.753554\ttest-auc:0.714363\n",
            "[58]\ttrain-auc:0.753504\ttest-auc:0.714363\n",
            "[59]\ttrain-auc:0.753504\ttest-auc:0.714363\n",
            "[60]\ttrain-auc:0.753504\ttest-auc:0.714363\n",
            "[61]\ttrain-auc:0.753504\ttest-auc:0.714363\n",
            "[62]\ttrain-auc:0.753504\ttest-auc:0.714363\n",
            "[63]\ttrain-auc:0.753504\ttest-auc:0.714363\n",
            "[64]\ttrain-auc:0.753504\ttest-auc:0.714363\n",
            "[65]\ttrain-auc:0.753504\ttest-auc:0.714363\n",
            "[66]\ttrain-auc:0.753504\ttest-auc:0.714363\n",
            "[67]\ttrain-auc:0.753504\ttest-auc:0.714363\n",
            "[68]\ttrain-auc:0.753504\ttest-auc:0.714363\n",
            "[69]\ttrain-auc:0.753504\ttest-auc:0.714363\n",
            "[70]\ttrain-auc:0.753504\ttest-auc:0.714363\n",
            "[71]\ttrain-auc:0.753504\ttest-auc:0.714363\n",
            "[72]\ttrain-auc:0.753504\ttest-auc:0.714363\n",
            "[73]\ttrain-auc:0.753504\ttest-auc:0.714363\n",
            "[74]\ttrain-auc:0.753504\ttest-auc:0.714363\n",
            "[75]\ttrain-auc:0.753504\ttest-auc:0.714363\n",
            "[76]\ttrain-auc:0.753504\ttest-auc:0.714363\n",
            "[77]\ttrain-auc:0.753504\ttest-auc:0.714363\n",
            "[78]\ttrain-auc:0.753504\ttest-auc:0.714363\n",
            "[79]\ttrain-auc:0.753504\ttest-auc:0.714363\n",
            "[80]\ttrain-auc:0.753504\ttest-auc:0.714363\n",
            "[81]\ttrain-auc:0.753504\ttest-auc:0.714363\n",
            "[82]\ttrain-auc:0.753504\ttest-auc:0.714363\n",
            "[83]\ttrain-auc:0.753504\ttest-auc:0.714363\n",
            "[84]\ttrain-auc:0.753504\ttest-auc:0.714363\n",
            "[85]\ttrain-auc:0.753504\ttest-auc:0.714363\n",
            "[86]\ttrain-auc:0.753504\ttest-auc:0.714363\n",
            "[87]\ttrain-auc:0.753504\ttest-auc:0.714363\n",
            "[88]\ttrain-auc:0.753504\ttest-auc:0.714363\n",
            "[89]\ttrain-auc:0.753504\ttest-auc:0.714363\n",
            "[90]\ttrain-auc:0.753504\ttest-auc:0.714363\n",
            "[91]\ttrain-auc:0.753504\ttest-auc:0.714363\n",
            "[92]\ttrain-auc:0.753504\ttest-auc:0.714363\n",
            "[93]\ttrain-auc:0.753504\ttest-auc:0.714363\n",
            "[94]\ttrain-auc:0.753504\ttest-auc:0.714363\n",
            "[95]\ttrain-auc:0.753504\ttest-auc:0.714363\n",
            "[96]\ttrain-auc:0.753504\ttest-auc:0.714363\n",
            "[97]\ttrain-auc:0.753504\ttest-auc:0.714363\n",
            "[98]\ttrain-auc:0.753504\ttest-auc:0.714363\n",
            "[99]\ttrain-auc:0.753504\ttest-auc:0.714363\n",
            "[100]\ttrain-auc:0.753504\ttest-auc:0.714363\n",
            "[101]\ttrain-auc:0.753504\ttest-auc:0.714363\n",
            "[102]\ttrain-auc:0.753504\ttest-auc:0.714363\n",
            "[103]\ttrain-auc:0.753504\ttest-auc:0.714363\n",
            "[104]\ttrain-auc:0.753504\ttest-auc:0.714363\n",
            "[105]\ttrain-auc:0.753504\ttest-auc:0.714363\n",
            "[106]\ttrain-auc:0.753504\ttest-auc:0.714363\n",
            "[107]\ttrain-auc:0.753504\ttest-auc:0.714363\n",
            "[108]\ttrain-auc:0.753504\ttest-auc:0.714363\n",
            "[109]\ttrain-auc:0.753504\ttest-auc:0.714363\n",
            "[110]\ttrain-auc:0.753504\ttest-auc:0.714363\n",
            "[111]\ttrain-auc:0.753504\ttest-auc:0.714363\n",
            "[112]\ttrain-auc:0.753504\ttest-auc:0.714363\n",
            "[113]\ttrain-auc:0.753504\ttest-auc:0.714363\n",
            "[114]\ttrain-auc:0.753504\ttest-auc:0.714363\n",
            "[115]\ttrain-auc:0.753504\ttest-auc:0.714363\n",
            "[116]\ttrain-auc:0.753504\ttest-auc:0.714363\n",
            "[117]\ttrain-auc:0.753504\ttest-auc:0.714363\n",
            "[118]\ttrain-auc:0.753504\ttest-auc:0.714363\n",
            "[119]\ttrain-auc:0.753504\ttest-auc:0.714363\n",
            "[120]\ttrain-auc:0.753504\ttest-auc:0.714363\n",
            "[121]\ttrain-auc:0.753504\ttest-auc:0.714363\n",
            "[122]\ttrain-auc:0.753504\ttest-auc:0.714363\n",
            "[123]\ttrain-auc:0.753504\ttest-auc:0.714363\n",
            "[124]\ttrain-auc:0.753504\ttest-auc:0.714363\n",
            "[125]\ttrain-auc:0.753504\ttest-auc:0.714363\n",
            "[126]\ttrain-auc:0.753504\ttest-auc:0.714363\n",
            "[127]\ttrain-auc:0.753504\ttest-auc:0.714363\n",
            "[128]\ttrain-auc:0.753504\ttest-auc:0.714363\n",
            "[129]\ttrain-auc:0.753504\ttest-auc:0.714363\n",
            "[130]\ttrain-auc:0.753504\ttest-auc:0.714363\n",
            "[131]\ttrain-auc:0.753504\ttest-auc:0.714363\n",
            "[132]\ttrain-auc:0.753504\ttest-auc:0.714363\n",
            "[133]\ttrain-auc:0.753504\ttest-auc:0.714363\n",
            "[134]\ttrain-auc:0.753504\ttest-auc:0.714363\n",
            "[135]\ttrain-auc:0.753504\ttest-auc:0.714363\n",
            "[136]\ttrain-auc:0.753504\ttest-auc:0.714363\n",
            "[137]\ttrain-auc:0.753504\ttest-auc:0.714363\n",
            "[138]\ttrain-auc:0.753504\ttest-auc:0.714363\n",
            "[139]\ttrain-auc:0.753504\ttest-auc:0.714363\n",
            "[140]\ttrain-auc:0.753504\ttest-auc:0.714363\n",
            "[141]\ttrain-auc:0.753504\ttest-auc:0.714363\n",
            "[142]\ttrain-auc:0.753504\ttest-auc:0.714363\n",
            "[143]\ttrain-auc:0.753504\ttest-auc:0.714363\n",
            "[144]\ttrain-auc:0.753504\ttest-auc:0.714363\n",
            "[145]\ttrain-auc:0.753504\ttest-auc:0.714363\n",
            "[146]\ttrain-auc:0.753504\ttest-auc:0.714363\n",
            "[147]\ttrain-auc:0.753504\ttest-auc:0.714363\n",
            "[148]\ttrain-auc:0.753504\ttest-auc:0.714363\n",
            "[149]\ttrain-auc:0.753504\ttest-auc:0.714363\n",
            "[150]\ttrain-auc:0.753504\ttest-auc:0.714363\n",
            "[151]\ttrain-auc:0.753504\ttest-auc:0.714363\n",
            "[152]\ttrain-auc:0.753504\ttest-auc:0.714363\n",
            "[153]\ttrain-auc:0.753504\ttest-auc:0.714363\n",
            "[154]\ttrain-auc:0.753504\ttest-auc:0.714363\n",
            "[155]\ttrain-auc:0.753504\ttest-auc:0.714363\n",
            "[156]\ttrain-auc:0.753504\ttest-auc:0.714363\n",
            "[157]\ttrain-auc:0.753504\ttest-auc:0.714363\n",
            "[158]\ttrain-auc:0.753504\ttest-auc:0.714363\n",
            "[159]\ttrain-auc:0.753504\ttest-auc:0.714363\n",
            "[160]\ttrain-auc:0.753504\ttest-auc:0.714363\n",
            "[161]\ttrain-auc:0.753504\ttest-auc:0.714363\n",
            "[162]\ttrain-auc:0.753504\ttest-auc:0.714363\n",
            "[163]\ttrain-auc:0.753504\ttest-auc:0.714363\n",
            "[164]\ttrain-auc:0.753504\ttest-auc:0.714363\n",
            "[165]\ttrain-auc:0.753504\ttest-auc:0.714363\n",
            "[166]\ttrain-auc:0.753504\ttest-auc:0.714363\n",
            "[167]\ttrain-auc:0.753504\ttest-auc:0.714363\n",
            "[168]\ttrain-auc:0.753504\ttest-auc:0.714363\n",
            "[169]\ttrain-auc:0.753504\ttest-auc:0.714363\n",
            "[170]\ttrain-auc:0.753504\ttest-auc:0.714363\n",
            "[171]\ttrain-auc:0.753504\ttest-auc:0.714363\n",
            "[172]\ttrain-auc:0.753504\ttest-auc:0.714363\n",
            "[173]\ttrain-auc:0.753504\ttest-auc:0.714363\n",
            "[174]\ttrain-auc:0.753504\ttest-auc:0.714363\n",
            "[175]\ttrain-auc:0.753504\ttest-auc:0.714363\n",
            "[176]\ttrain-auc:0.753504\ttest-auc:0.714363\n",
            "[177]\ttrain-auc:0.753504\ttest-auc:0.714363\n",
            "[178]\ttrain-auc:0.753504\ttest-auc:0.714363\n",
            "[179]\ttrain-auc:0.753504\ttest-auc:0.714363\n",
            "[180]\ttrain-auc:0.753504\ttest-auc:0.714363\n",
            "[181]\ttrain-auc:0.753504\ttest-auc:0.714363\n",
            "[182]\ttrain-auc:0.753504\ttest-auc:0.714363\n",
            "[183]\ttrain-auc:0.753504\ttest-auc:0.714363\n",
            "[184]\ttrain-auc:0.753504\ttest-auc:0.714363\n",
            "[185]\ttrain-auc:0.753504\ttest-auc:0.714363\n",
            "[186]\ttrain-auc:0.753504\ttest-auc:0.714363\n",
            "[187]\ttrain-auc:0.753504\ttest-auc:0.714363\n",
            "[188]\ttrain-auc:0.753504\ttest-auc:0.714363\n",
            "[189]\ttrain-auc:0.753504\ttest-auc:0.714363\n",
            "[190]\ttrain-auc:0.753504\ttest-auc:0.714363\n",
            "[191]\ttrain-auc:0.753504\ttest-auc:0.714363\n",
            "[192]\ttrain-auc:0.753504\ttest-auc:0.714363\n",
            "[193]\ttrain-auc:0.753504\ttest-auc:0.714363\n",
            "[194]\ttrain-auc:0.753504\ttest-auc:0.714363\n",
            "[195]\ttrain-auc:0.753504\ttest-auc:0.714363\n",
            "[196]\ttrain-auc:0.753504\ttest-auc:0.714363\n",
            "[197]\ttrain-auc:0.753504\ttest-auc:0.714363\n",
            "[198]\ttrain-auc:0.753504\ttest-auc:0.714363\n",
            "[199]\ttrain-auc:0.753504\ttest-auc:0.714363\n",
            "[200]\ttrain-auc:0.753504\ttest-auc:0.714363\n",
            "[201]\ttrain-auc:0.753504\ttest-auc:0.714363\n",
            "[202]\ttrain-auc:0.753504\ttest-auc:0.714363\n",
            "[203]\ttrain-auc:0.753504\ttest-auc:0.714363\n",
            "[204]\ttrain-auc:0.753504\ttest-auc:0.714363\n",
            "[205]\ttrain-auc:0.753504\ttest-auc:0.714363\n",
            "[206]\ttrain-auc:0.753504\ttest-auc:0.714363\n",
            "[207]\ttrain-auc:0.753504\ttest-auc:0.714363\n",
            "[208]\ttrain-auc:0.753504\ttest-auc:0.714363\n",
            "[209]\ttrain-auc:0.753504\ttest-auc:0.714363\n",
            "[210]\ttrain-auc:0.753504\ttest-auc:0.714363\n",
            "[211]\ttrain-auc:0.753504\ttest-auc:0.714363\n",
            "[212]\ttrain-auc:0.753504\ttest-auc:0.714363\n",
            "[213]\ttrain-auc:0.753504\ttest-auc:0.714363\n",
            "[214]\ttrain-auc:0.753504\ttest-auc:0.714363\n",
            "[215]\ttrain-auc:0.753504\ttest-auc:0.714363\n",
            "[216]\ttrain-auc:0.753504\ttest-auc:0.714363\n",
            "[217]\ttrain-auc:0.753504\ttest-auc:0.714363\n",
            "[218]\ttrain-auc:0.753504\ttest-auc:0.714363\n",
            "[219]\ttrain-auc:0.753504\ttest-auc:0.714363\n",
            "[220]\ttrain-auc:0.753504\ttest-auc:0.714363\n",
            "[221]\ttrain-auc:0.753504\ttest-auc:0.714363\n",
            "[222]\ttrain-auc:0.753504\ttest-auc:0.714363\n",
            "[223]\ttrain-auc:0.753504\ttest-auc:0.714363\n",
            "[224]\ttrain-auc:0.753504\ttest-auc:0.714363\n",
            "[225]\ttrain-auc:0.753504\ttest-auc:0.714363\n",
            "[226]\ttrain-auc:0.753504\ttest-auc:0.714363\n",
            "[227]\ttrain-auc:0.753504\ttest-auc:0.714363\n",
            "[228]\ttrain-auc:0.753504\ttest-auc:0.714363\n",
            "[229]\ttrain-auc:0.753504\ttest-auc:0.714363\n",
            "[230]\ttrain-auc:0.753504\ttest-auc:0.714363\n",
            "[231]\ttrain-auc:0.753504\ttest-auc:0.714363\n",
            "[232]\ttrain-auc:0.753504\ttest-auc:0.714363\n",
            "[233]\ttrain-auc:0.753504\ttest-auc:0.714363\n",
            "[234]\ttrain-auc:0.753504\ttest-auc:0.714363\n",
            "[235]\ttrain-auc:0.753504\ttest-auc:0.714363\n",
            "[236]\ttrain-auc:0.753504\ttest-auc:0.714363\n",
            "[237]\ttrain-auc:0.753504\ttest-auc:0.714363\n",
            "[238]\ttrain-auc:0.753504\ttest-auc:0.714363\n",
            "[239]\ttrain-auc:0.753504\ttest-auc:0.714363\n",
            "[240]\ttrain-auc:0.753504\ttest-auc:0.714363\n",
            "[241]\ttrain-auc:0.753504\ttest-auc:0.714363\n",
            "[242]\ttrain-auc:0.753504\ttest-auc:0.714363\n",
            "[243]\ttrain-auc:0.753504\ttest-auc:0.714363\n",
            "[244]\ttrain-auc:0.753504\ttest-auc:0.714363\n",
            "[245]\ttrain-auc:0.753504\ttest-auc:0.714363\n",
            "[246]\ttrain-auc:0.753504\ttest-auc:0.714363\n",
            "[247]\ttrain-auc:0.753504\ttest-auc:0.714363\n",
            "[248]\ttrain-auc:0.753504\ttest-auc:0.714363\n",
            "[249]\ttrain-auc:0.753504\ttest-auc:0.714363\n"
          ],
          "name": "stdout"
        }
      ]
    },
    {
      "cell_type": "code",
      "metadata": {
        "id": "-7agLU8mKUq5"
      },
      "source": [
        ""
      ],
      "execution_count": null,
      "outputs": []
    },
    {
      "cell_type": "code",
      "metadata": {
        "id": "kcfebWZdNmB3",
        "colab": {
          "base_uri": "https://localhost:8080/",
          "height": 235
        },
        "outputId": "d3ea0517-e35b-48e4-cb5f-263d2b26ef01"
      },
      "source": [
        "# Importancia de Variables\n",
        "frame = { 'Gain':        pd.Series(xgb_fit.get_score(importance_type='gain')),\n",
        "          'Cover':       pd.Series(xgb_fit.get_score(importance_type='cover')),\n",
        "          'Weight':      pd.Series(xgb_fit.get_score(importance_type='weight'))}\n",
        "result = pd.DataFrame(frame) \n",
        "result    "
      ],
      "execution_count": null,
      "outputs": [
        {
          "output_type": "execute_result",
          "data": {
            "text/html": [
              "<div>\n",
              "<style scoped>\n",
              "    .dataframe tbody tr th:only-of-type {\n",
              "        vertical-align: middle;\n",
              "    }\n",
              "\n",
              "    .dataframe tbody tr th {\n",
              "        vertical-align: top;\n",
              "    }\n",
              "\n",
              "    .dataframe thead th {\n",
              "        text-align: right;\n",
              "    }\n",
              "</style>\n",
              "<table border=\"1\" class=\"dataframe\">\n",
              "  <thead>\n",
              "    <tr style=\"text-align: right;\">\n",
              "      <th></th>\n",
              "      <th>Gain</th>\n",
              "      <th>Cover</th>\n",
              "      <th>Weight</th>\n",
              "    </tr>\n",
              "  </thead>\n",
              "  <tbody>\n",
              "    <tr>\n",
              "      <th>Credit_History</th>\n",
              "      <td>102.903711</td>\n",
              "      <td>107.241055</td>\n",
              "      <td>250</td>\n",
              "    </tr>\n",
              "    <tr>\n",
              "      <th>Cuota_Ingreso_Hijo</th>\n",
              "      <td>3.150034</td>\n",
              "      <td>52.620550</td>\n",
              "      <td>500</td>\n",
              "    </tr>\n",
              "    <tr>\n",
              "      <th>Cuota_Ingreso1</th>\n",
              "      <td>1.104377</td>\n",
              "      <td>9.872724</td>\n",
              "      <td>381</td>\n",
              "    </tr>\n",
              "    <tr>\n",
              "      <th>ApplicantIncome</th>\n",
              "      <td>2.956359</td>\n",
              "      <td>2.500000</td>\n",
              "      <td>4</td>\n",
              "    </tr>\n",
              "    <tr>\n",
              "      <th>TotalIncome</th>\n",
              "      <td>8.713230</td>\n",
              "      <td>90.993054</td>\n",
              "      <td>250</td>\n",
              "    </tr>\n",
              "    <tr>\n",
              "      <th>LoanAmount</th>\n",
              "      <td>1.732495</td>\n",
              "      <td>2.499938</td>\n",
              "      <td>121</td>\n",
              "    </tr>\n",
              "  </tbody>\n",
              "</table>\n",
              "</div>"
            ],
            "text/plain": [
              "                          Gain       Cover  Weight\n",
              "Credit_History      102.903711  107.241055     250\n",
              "Cuota_Ingreso_Hijo    3.150034   52.620550     500\n",
              "Cuota_Ingreso1        1.104377    9.872724     381\n",
              "ApplicantIncome       2.956359    2.500000       4\n",
              "TotalIncome           8.713230   90.993054     250\n",
              "LoanAmount            1.732495    2.499938     121"
            ]
          },
          "metadata": {
            "tags": []
          },
          "execution_count": 73
        }
      ]
    },
    {
      "cell_type": "code",
      "metadata": {
        "id": "wIFvrX0GNmB4",
        "colab": {
          "base_uri": "https://localhost:8080/",
          "height": 312
        },
        "outputId": "bea0939a-8e42-4127-946d-d9ccd532a40a"
      },
      "source": [
        "# Podemos calcular la importancia de variables por Xgboost\n",
        "xgb.plot_importance(xgb_fit,importance_type='gain')"
      ],
      "execution_count": null,
      "outputs": [
        {
          "output_type": "execute_result",
          "data": {
            "text/plain": [
              "<matplotlib.axes._subplots.AxesSubplot at 0x7ffa3025a320>"
            ]
          },
          "metadata": {
            "tags": []
          },
          "execution_count": 42
        },
        {
          "output_type": "display_data",
          "data": {
            "image/png": "[encoded data removed]",
            "text/plain": [
              "<Figure size 432x288 with 1 Axes>"
            ]
          },
          "metadata": {
            "tags": [],
            "needs_background": "light"
          }
        }
      ]
    },
    {
      "cell_type": "code",
      "metadata": {
        "id": "9U3Br0eDNmB7",
        "colab": {
          "base_uri": "https://localhost:8080/",
          "height": 102
        },
        "outputId": "78796b5b-e3cd-4344-a3a0-c3bceb106284"
      },
      "source": [
        "## Modelos Boosting : LightGBM ##\n",
        "! pip install lightgbm"
      ],
      "execution_count": null,
      "outputs": [
        {
          "output_type": "stream",
          "text": [
            "Requirement already satisfied: lightgbm in /usr/local/lib/python3.6/dist-packages (2.2.3)\n",
            "Requirement already satisfied: scipy in /usr/local/lib/python3.6/dist-packages (from lightgbm) (1.4.1)\n",
            "Requirement already satisfied: scikit-learn in /usr/local/lib/python3.6/dist-packages (from lightgbm) (0.22.2.post1)\n",
            "Requirement already satisfied: numpy in /usr/local/lib/python3.6/dist-packages (from lightgbm) (1.18.4)\n",
            "Requirement already satisfied: joblib>=0.11 in /usr/local/lib/python3.6/dist-packages (from scikit-learn->lightgbm) (0.14.1)\n"
          ],
          "name": "stdout"
        }
      ]
    },
    {
      "cell_type": "code",
      "metadata": {
        "id": "Ok2LyNE9NmB9"
      },
      "source": [
        "import lightgbm as lgb"
      ],
      "execution_count": null,
      "outputs": []
    },
    {
      "cell_type": "code",
      "metadata": {
        "id": "sxgexrRVNmCB"
      },
      "source": [
        "dtrain = lgb.Dataset(X_train, label=y_train)\n",
        "dtest =  lgb.Dataset(X_test,  label=y_test, reference=dtrain)"
      ],
      "execution_count": null,
      "outputs": []
    },
    {
      "cell_type": "code",
      "metadata": {
        "id": "OpDoIelgNmCC"
      },
      "source": [
        "params = {\n",
        "        'task':'train', \n",
        "        'is_unbalance': False, \n",
        "        'max_dept':1,\n",
        "        'max_bin': 10,  # max cantidad de cortes de una var. numerica\n",
        "        'boosting_type': 'gbdt',\n",
        "        'objective': 'binary',\n",
        "        #'min_child_weight': 150,\n",
        "        'metric': 'auc',\n",
        "        #'min_data_in_leaf': 250,\n",
        "        'num_leaves': 5,\n",
        "        'learning_rate': 0.0001,\n",
        "        'feature_fraction': 0.8,\n",
        "        'bagging_fraction': 0.8,\n",
        "        'bagging_freq': 10,\n",
        "        #'min_data_per_group':150 ,\n",
        "        'verbose': 0,\n",
        "        'seed ':1234,\n",
        "        'is_unbalance':True\n",
        "}"
      ],
      "execution_count": null,
      "outputs": []
    },
    {
      "cell_type": "code",
      "metadata": {
        "id": "w2NzxAfVLBPI"
      },
      "source": [
        ""
      ],
      "execution_count": null,
      "outputs": []
    },
    {
      "cell_type": "code",
      "metadata": {
        "id": "ahD2Ii2BNmCE"
      },
      "source": [
        "gbm = lgb.train(params,\n",
        "                dtrain,\n",
        "                num_boost_round=10000,\n",
        "                valid_sets=[dtrain,dtest],\n",
        "                early_stopping_rounds=100)"
      ],
      "execution_count": null,
      "outputs": []
    },
    {
      "cell_type": "code",
      "metadata": {
        "id": "nSiF5vzONmCH",
        "colab": {
          "base_uri": "https://localhost:8080/",
          "height": 323
        },
        "outputId": "3281f416-6977-4ab5-e4d2-9f9390d1abc0"
      },
      "source": [
        "importancia=gbm.feature_importance(importance_type='gain')\n",
        "\n",
        "def impxgb(valores,variables):\n",
        "    dictimp={variables[a]:valores[a] for a in range(0,len(variables)) }\n",
        "    xgimp=sorted(list(dictimp.items()), key=lambda x: x[1],reverse=True)\n",
        "\n",
        "    return xgimp\n",
        "\n",
        "ixg=impxgb(importancia,X_train.columns)\n",
        "pd.Series(ixg)"
      ],
      "execution_count": null,
      "outputs": [
        {
          "output_type": "execute_result",
          "data": {
            "text/plain": [
              "0        (Credit_History, 3780.3102951049805)\n",
              "1         (Cuota_Ingreso2, 174.6280801296234)\n",
              "2        (Cuota_Ingreso1, 150.55474042892456)\n",
              "3              (Education, 95.64497065544128)\n",
              "4      (CoapplicantIncome, 68.92885994911194)\n",
              "5          (Property_Area, 68.89336967468262)\n",
              "6        (ApplicantIncome, 39.06327033042908)\n",
              "7                (Married, 27.51448965072632)\n",
              "8            (TotalIncome, 26.77689027786255)\n",
              "9                (Gender, 22.121349811553955)\n",
              "10          (AmountxTerm, 21.210700273513794)\n",
              "11    (Cuota_Ingreso_Hijo, 14.19530987739563)\n",
              "12           (Dependents, 10.823490142822266)\n",
              "13           (LoanAmount, 10.397259712219238)\n",
              "14                       (Self_Employed, 0.0)\n",
              "15                    (Loan_Amount_Term, 0.0)\n",
              "16                      (Log_LoanAmount, 0.0)\n",
              "dtype: object"
            ]
          },
          "metadata": {
            "tags": []
          },
          "execution_count": 48
        }
      ]
    },
    {
      "cell_type": "code",
      "metadata": {
        "id": "27DDstheNmCh"
      },
      "source": [
        "##################################################\n",
        "## Implementación de Modelos de Machine Learning\n",
        "##################################################"
      ],
      "execution_count": null,
      "outputs": []
    },
    {
      "cell_type": "code",
      "metadata": {
        "id": "f7Cjn0E_NmCi"
      },
      "source": [
        "# Leemos el dataset de implementacion, podria ser una informacion a enivar a campanas\n",
        "implemt = pd.read_csv(\"/content/drive/My Drive/DSW - MachineLearning/test.csv\") "
      ],
      "execution_count": null,
      "outputs": []
    },
    {
      "cell_type": "code",
      "metadata": {
        "id": "iFh5FdWqNmCi"
      },
      "source": [
        "# Todo lo realizado en el dataset de entrenamiento del modelo lo debemos replicar en el dataset de scoring"
      ],
      "execution_count": null,
      "outputs": []
    },
    {
      "cell_type": "code",
      "metadata": {
        "id": "JXrIHrTaNmCj"
      },
      "source": [
        "# Imputamos los valores cualitativos por Moda\n",
        "implemt.Gender = implemt.Gender.fillna(\"Male\")\n",
        "implemt.Married = implemt.Married.fillna(\"Yes\")\n",
        "implemt.Self_Employed = implemt.Self_Employed.fillna(\"Yes\")\n",
        "implemt.Credit_History = implemt.Credit_History.fillna(\"1\")\n",
        "implemt.Dependents = implemt.Dependents.fillna(\"0\")"
      ],
      "execution_count": null,
      "outputs": []
    },
    {
      "cell_type": "code",
      "metadata": {
        "id": "59ghfK2JNmCl"
      },
      "source": [
        "# Separamos los features categoricos y los numericos\n",
        "columnas_categoricas = [\"Gender\",\"Married\",\"Education\",\"Self_Employed\",\"Property_Area\",\"Dependents\"]\n",
        "columnas_numericas = [\"ApplicantIncome\",\"CoapplicantIncome\",\"LoanAmount\",\"Loan_Amount_Term\"]"
      ],
      "execution_count": null,
      "outputs": []
    },
    {
      "cell_type": "code",
      "metadata": {
        "id": "HOLfor4ONmCn",
        "colab": {
          "base_uri": "https://localhost:8080/",
          "height": 119
        },
        "outputId": "3eb66c4d-1923-41a1-e7f0-85f87cb0d085"
      },
      "source": [
        "# Preprocesamiento con LabelEncoder\n",
        "from sklearn.preprocessing import LabelEncoder\n",
        "for c in columnas_categoricas:\n",
        "    print(str(c))\n",
        "    le = LabelEncoder()\n",
        "    le.fit(implemt[str(c)])\n",
        "    implemt[str(c)]=le.transform(implemt[str(c)]) "
      ],
      "execution_count": null,
      "outputs": [
        {
          "output_type": "stream",
          "text": [
            "Gender\n",
            "Married\n",
            "Education\n",
            "Self_Employed\n",
            "Property_Area\n",
            "Dependents\n"
          ],
          "name": "stdout"
        }
      ]
    },
    {
      "cell_type": "code",
      "metadata": {
        "id": "Fm8qq9TUNmCp"
      },
      "source": [
        "# Imputamos los valores cuantitativos por Media o Mediana\n",
        "for c in columnas_numericas:\n",
        "    median = implemt[c].median()\n",
        "    implemt[c].fillna(median, inplace=True)"
      ],
      "execution_count": null,
      "outputs": []
    },
    {
      "cell_type": "code",
      "metadata": {
        "id": "ewc1LgBHNmCq",
        "colab": {
          "base_uri": "https://localhost:8080/",
          "height": 238
        },
        "outputId": "094842be-dc25-4be6-a7d3-3328e26465bc"
      },
      "source": [
        "implemt.isnull().sum()"
      ],
      "execution_count": null,
      "outputs": [
        {
          "output_type": "execute_result",
          "data": {
            "text/plain": [
              "Loan_ID              0\n",
              "Gender               0\n",
              "Married              0\n",
              "Dependents           0\n",
              "Education            0\n",
              "Self_Employed        0\n",
              "ApplicantIncome      0\n",
              "CoapplicantIncome    0\n",
              "LoanAmount           0\n",
              "Loan_Amount_Term     0\n",
              "Credit_History       0\n",
              "Property_Area        0\n",
              "dtype: int64"
            ]
          },
          "metadata": {
            "tags": []
          },
          "execution_count": 54
        }
      ]
    },
    {
      "cell_type": "code",
      "metadata": {
        "id": "XAGxGZLVNmCs"
      },
      "source": [
        "#implemt.ApplicantIncome.value_counts()"
      ],
      "execution_count": null,
      "outputs": []
    },
    {
      "cell_type": "code",
      "metadata": {
        "id": "9KqHEOknNmCt"
      },
      "source": [
        "# Ingenieria de datos\n",
        "#Creamos las mismas variables que utilizamos en el train\n",
        "implemt['TotalIncome']    = implemt['ApplicantIncome'] + implemt['CoapplicantIncome']\n",
        "implemt['Log_LoanAmount'] = round(np.log(implemt['LoanAmount']+1),2)"
      ],
      "execution_count": null,
      "outputs": []
    },
    {
      "cell_type": "code",
      "metadata": {
        "id": "nimFSZ03NmCu"
      },
      "source": [
        "implemt['AmountxTerm']    = round(implemt['LoanAmount']/implemt['Loan_Amount_Term'],2)\n",
        "implemt[\"Cuota_Ingreso1\"] = (1000*implemt[\"LoanAmount\"]/implemt[\"Loan_Amount_Term\"])/(implemt[\"ApplicantIncome\"] +1)\n",
        "implemt[\"Cuota_Ingreso2\"] = (1000*implemt[\"LoanAmount\"]/implemt[\"Loan_Amount_Term\"])/(implemt[\"TotalIncome\"] +1)\n",
        "implemt[\"Cuota_Ingreso_Hijo\"] = (1000*implemt[\"LoanAmount\"]/implemt[\"Loan_Amount_Term\"])/(implemt[\"TotalIncome\"]/(implemt[\"Dependents\"]+1))\n"
      ],
      "execution_count": null,
      "outputs": []
    },
    {
      "cell_type": "code",
      "metadata": {
        "id": "9CZR45e5NmCv"
      },
      "source": [
        "## Una vez que tenemos todas las variables podemos scorear o puntuar los registros"
      ],
      "execution_count": null,
      "outputs": []
    },
    {
      "cell_type": "code",
      "metadata": {
        "id": "dQbIBzIoNmCy",
        "colab": {
          "base_uri": "https://localhost:8080/",
          "height": 100
        },
        "outputId": "462d2dac-9063-4d2c-ace8-b5dd4879b14c"
      },
      "source": [
        "implemt.head(1)"
      ],
      "execution_count": null,
      "outputs": [
        {
          "output_type": "execute_result",
          "data": {
            "text/html": [
              "<div>\n",
              "<style scoped>\n",
              "    .dataframe tbody tr th:only-of-type {\n",
              "        vertical-align: middle;\n",
              "    }\n",
              "\n",
              "    .dataframe tbody tr th {\n",
              "        vertical-align: top;\n",
              "    }\n",
              "\n",
              "    .dataframe thead th {\n",
              "        text-align: right;\n",
              "    }\n",
              "</style>\n",
              "<table border=\"1\" class=\"dataframe\">\n",
              "  <thead>\n",
              "    <tr style=\"text-align: right;\">\n",
              "      <th></th>\n",
              "      <th>Loan_ID</th>\n",
              "      <th>Gender</th>\n",
              "      <th>Married</th>\n",
              "      <th>Dependents</th>\n",
              "      <th>Education</th>\n",
              "      <th>Self_Employed</th>\n",
              "      <th>ApplicantIncome</th>\n",
              "      <th>CoapplicantIncome</th>\n",
              "      <th>LoanAmount</th>\n",
              "      <th>Loan_Amount_Term</th>\n",
              "      <th>Credit_History</th>\n",
              "      <th>Property_Area</th>\n",
              "      <th>TotalIncome</th>\n",
              "      <th>Log_LoanAmount</th>\n",
              "      <th>AmountxTerm</th>\n",
              "      <th>Cuota_Ingreso1</th>\n",
              "      <th>Cuota_Ingreso2</th>\n",
              "      <th>Cuota_Ingreso_Hijo</th>\n",
              "    </tr>\n",
              "  </thead>\n",
              "  <tbody>\n",
              "    <tr>\n",
              "      <th>0</th>\n",
              "      <td>LP001015</td>\n",
              "      <td>1</td>\n",
              "      <td>1</td>\n",
              "      <td>0</td>\n",
              "      <td>0</td>\n",
              "      <td>0</td>\n",
              "      <td>5720</td>\n",
              "      <td>0</td>\n",
              "      <td>110.0</td>\n",
              "      <td>360.0</td>\n",
              "      <td>1</td>\n",
              "      <td>2</td>\n",
              "      <td>5720</td>\n",
              "      <td>4.71</td>\n",
              "      <td>0.31</td>\n",
              "      <td>0.053409</td>\n",
              "      <td>0.053409</td>\n",
              "      <td>0.053419</td>\n",
              "    </tr>\n",
              "  </tbody>\n",
              "</table>\n",
              "</div>"
            ],
            "text/plain": [
              "    Loan_ID  Gender  ...  Cuota_Ingreso2  Cuota_Ingreso_Hijo\n",
              "0  LP001015       1  ...        0.053409            0.053419\n",
              "\n",
              "[1 rows x 18 columns]"
            ]
          },
          "metadata": {
            "tags": []
          },
          "execution_count": 57
        }
      ]
    },
    {
      "cell_type": "code",
      "metadata": {
        "id": "b_GvS0BXNmC3"
      },
      "source": [
        "df_scoring = implemt.drop(\"Loan_ID\",axis=1)"
      ],
      "execution_count": null,
      "outputs": []
    },
    {
      "cell_type": "code",
      "metadata": {
        "id": "uBMlUnwwNmC-"
      },
      "source": [
        "df_scoring.Credit_History = df_scoring.Credit_History.astype('int')"
      ],
      "execution_count": null,
      "outputs": []
    },
    {
      "cell_type": "code",
      "metadata": {
        "id": "oU0VCCMnNmDA",
        "colab": {
          "base_uri": "https://localhost:8080/",
          "height": 34
        },
        "outputId": "9d8303d4-3209-42c0-cf84-d775f382c9ab"
      },
      "source": [
        "df_scoring.shape"
      ],
      "execution_count": null,
      "outputs": [
        {
          "output_type": "execute_result",
          "data": {
            "text/plain": [
              "(367, 17)"
            ]
          },
          "metadata": {
            "tags": []
          },
          "execution_count": 60
        }
      ]
    },
    {
      "cell_type": "code",
      "metadata": {
        "id": "jGQ-k0EpNmDC"
      },
      "source": [
        "# Predecimos con la data nueva\n",
        "y_scoring = gbm.predict(df_scoring)"
      ],
      "execution_count": null,
      "outputs": []
    },
    {
      "cell_type": "code",
      "metadata": {
        "id": "xSQHbW0CNmDE"
      },
      "source": [
        "# Convertir la probabilidad en clase\n",
        "for i in range(0,367):\n",
        "    if y_scoring[i]>=0.50:\n",
        "        y_scoring[i]=1\n",
        "    else:\n",
        "        y_scoring[i]=0"
      ],
      "execution_count": null,
      "outputs": []
    },
    {
      "cell_type": "code",
      "metadata": {
        "id": "e7tZkq0kNmDF"
      },
      "source": [
        "# Predecimos sobre el set de datos de implementacion con el modelo entrenado\n",
        "#y_scoring = RegLog.predict(df_scoring) # Predecimos sobre nuevos clientes o clientes sin la variable dependiente VD\n",
        "# Juntamos el ID con la clase\n",
        "data = np.hstack((implemt['Loan_ID'].values.reshape(-1,1), y_scoring.reshape(-1,1)))\n",
        "# Le asignamos nombres a las columnas\n",
        "df_submmit = pd.DataFrame(data, columns=['Loan_ID','Loan_Status'])\n",
        "# Convertimos al formato solicitado por Analytics Vidhya\n",
        "df_submmit['Loan_Status']=[\"Y\" if i == 1 else \"N\" for i in df_submmit['Loan_Status']]\n",
        "# Exportamos la solucion\n",
        "df_submmit.to_csv('/content/drive/My Drive/DSW - MachineLearning/Sol_Lgbm.csv', index=False)"
      ],
      "execution_count": null,
      "outputs": []
    },
    {
      "cell_type": "code",
      "metadata": {
        "id": "3fxpGPtoI93Y"
      },
      "source": [
        "# Predecimos con la data nueva\n",
        "y_scoring = RegLog.predict(df_scoring)\n",
        "# Convertir la probabilidad en clase\n",
        "for i in range(0,367):\n",
        "    if y_scoring[i]>=0.50:\n",
        "        y_scoring[i]=1\n",
        "    else:\n",
        "        y_scoring[i]=0"
      ],
      "execution_count": null,
      "outputs": []
    },
    {
      "cell_type": "code",
      "metadata": {
        "id": "qEmBZZ6eJAuq"
      },
      "source": [
        "# Predecimos sobre el set de datos de implementacion con el modelo entrenado\n",
        "#y_scoring = RegLog.predict(df_scoring) # Predecimos sobre nuevos clientes o clientes sin la variable dependiente VD\n",
        "# Juntamos el ID con la clase\n",
        "data = np.hstack((implemt['Loan_ID'].values.reshape(-1,1), y_scoring.reshape(-1,1)))\n",
        "# Le asignamos nombres a las columnas\n",
        "df_submmit = pd.DataFrame(data, columns=['Loan_ID','Loan_Status'])\n",
        "# Convertimos al formato solicitado por Analytics Vidhya\n",
        "df_submmit['Loan_Status']=[\"Y\" if i == 1 else \"N\" for i in df_submmit['Loan_Status']]\n",
        "# Exportamos la solucion\n",
        "df_submmit.to_csv('/content/drive/My Drive/DSW - MachineLearning/RegLog.csv', index=False)"
      ],
      "execution_count": null,
      "outputs": []
    },
    {
      "cell_type": "code",
      "metadata": {
        "id": "B2YnPS_-Kdwv",
        "colab": {
          "base_uri": "https://localhost:8080/",
          "height": 162
        },
        "outputId": "9b8e1678-b22c-4969-c8d9-9e863665f5e2"
      },
      "source": [
        "\n",
        "\n",
        "X_train.head(3)"
      ],
      "execution_count": null,
      "outputs": [
        {
          "output_type": "execute_result",
          "data": {
            "text/html": [
              "<div>\n",
              "<style scoped>\n",
              "    .dataframe tbody tr th:only-of-type {\n",
              "        vertical-align: middle;\n",
              "    }\n",
              "\n",
              "    .dataframe tbody tr th {\n",
              "        vertical-align: top;\n",
              "    }\n",
              "\n",
              "    .dataframe thead th {\n",
              "        text-align: right;\n",
              "    }\n",
              "</style>\n",
              "<table border=\"1\" class=\"dataframe\">\n",
              "  <thead>\n",
              "    <tr style=\"text-align: right;\">\n",
              "      <th></th>\n",
              "      <th>Gender</th>\n",
              "      <th>Married</th>\n",
              "      <th>Dependents</th>\n",
              "      <th>Education</th>\n",
              "      <th>Self_Employed</th>\n",
              "      <th>ApplicantIncome</th>\n",
              "      <th>CoapplicantIncome</th>\n",
              "      <th>LoanAmount</th>\n",
              "      <th>Loan_Amount_Term</th>\n",
              "      <th>Credit_History</th>\n",
              "      <th>Property_Area</th>\n",
              "      <th>TotalIncome</th>\n",
              "      <th>Log_LoanAmount</th>\n",
              "      <th>AmountxTerm</th>\n",
              "      <th>Cuota_Ingreso1</th>\n",
              "      <th>Cuota_Ingreso2</th>\n",
              "      <th>Cuota_Ingreso_Hijo</th>\n",
              "    </tr>\n",
              "  </thead>\n",
              "  <tbody>\n",
              "    <tr>\n",
              "      <th>544</th>\n",
              "      <td>0</td>\n",
              "      <td>1</td>\n",
              "      <td>0</td>\n",
              "      <td>1</td>\n",
              "      <td>0</td>\n",
              "      <td>3017</td>\n",
              "      <td>663.0</td>\n",
              "      <td>102.0</td>\n",
              "      <td>360.0</td>\n",
              "      <td>1</td>\n",
              "      <td>1</td>\n",
              "      <td>3680.0</td>\n",
              "      <td>4.63</td>\n",
              "      <td>0.28</td>\n",
              "      <td>0.093912</td>\n",
              "      <td>0.076993</td>\n",
              "      <td>0.076993</td>\n",
              "    </tr>\n",
              "    <tr>\n",
              "      <th>13</th>\n",
              "      <td>1</td>\n",
              "      <td>0</td>\n",
              "      <td>0</td>\n",
              "      <td>0</td>\n",
              "      <td>0</td>\n",
              "      <td>1853</td>\n",
              "      <td>2840.0</td>\n",
              "      <td>114.0</td>\n",
              "      <td>360.0</td>\n",
              "      <td>1</td>\n",
              "      <td>0</td>\n",
              "      <td>4693.0</td>\n",
              "      <td>4.74</td>\n",
              "      <td>0.32</td>\n",
              "      <td>0.170894</td>\n",
              "      <td>0.067476</td>\n",
              "      <td>0.067476</td>\n",
              "    </tr>\n",
              "    <tr>\n",
              "      <th>383</th>\n",
              "      <td>1</td>\n",
              "      <td>0</td>\n",
              "      <td>0</td>\n",
              "      <td>0</td>\n",
              "      <td>1</td>\n",
              "      <td>7167</td>\n",
              "      <td>0.0</td>\n",
              "      <td>128.0</td>\n",
              "      <td>360.0</td>\n",
              "      <td>1</td>\n",
              "      <td>2</td>\n",
              "      <td>7167.0</td>\n",
              "      <td>4.86</td>\n",
              "      <td>0.36</td>\n",
              "      <td>0.049610</td>\n",
              "      <td>0.049610</td>\n",
              "      <td>0.049610</td>\n",
              "    </tr>\n",
              "  </tbody>\n",
              "</table>\n",
              "</div>"
            ],
            "text/plain": [
              "     Gender  Married  ...  Cuota_Ingreso2  Cuota_Ingreso_Hijo\n",
              "544       0        1  ...        0.076993            0.076993\n",
              "13        1        0  ...        0.067476            0.067476\n",
              "383       1        0  ...        0.049610            0.049610\n",
              "\n",
              "[3 rows x 17 columns]"
            ]
          },
          "metadata": {
            "tags": []
          },
          "execution_count": 74
        }
      ]
    },
    {
      "cell_type": "code",
      "metadata": {
        "id": "LQx4LK8hKwrw",
        "colab": {
          "base_uri": "https://localhost:8080/",
          "height": 162
        },
        "outputId": "e55ebc34-3bd0-48e3-e326-b3823412442e"
      },
      "source": [
        "df_scoring.head(3)"
      ],
      "execution_count": null,
      "outputs": [
        {
          "output_type": "execute_result",
          "data": {
            "text/html": [
              "<div>\n",
              "<style scoped>\n",
              "    .dataframe tbody tr th:only-of-type {\n",
              "        vertical-align: middle;\n",
              "    }\n",
              "\n",
              "    .dataframe tbody tr th {\n",
              "        vertical-align: top;\n",
              "    }\n",
              "\n",
              "    .dataframe thead th {\n",
              "        text-align: right;\n",
              "    }\n",
              "</style>\n",
              "<table border=\"1\" class=\"dataframe\">\n",
              "  <thead>\n",
              "    <tr style=\"text-align: right;\">\n",
              "      <th></th>\n",
              "      <th>Gender</th>\n",
              "      <th>Married</th>\n",
              "      <th>Dependents</th>\n",
              "      <th>Education</th>\n",
              "      <th>Self_Employed</th>\n",
              "      <th>ApplicantIncome</th>\n",
              "      <th>CoapplicantIncome</th>\n",
              "      <th>LoanAmount</th>\n",
              "      <th>Loan_Amount_Term</th>\n",
              "      <th>Credit_History</th>\n",
              "      <th>Property_Area</th>\n",
              "      <th>TotalIncome</th>\n",
              "      <th>Log_LoanAmount</th>\n",
              "      <th>AmountxTerm</th>\n",
              "      <th>Cuota_Ingreso1</th>\n",
              "      <th>Cuota_Ingreso2</th>\n",
              "      <th>Cuota_Ingreso_Hijo</th>\n",
              "    </tr>\n",
              "  </thead>\n",
              "  <tbody>\n",
              "    <tr>\n",
              "      <th>0</th>\n",
              "      <td>1</td>\n",
              "      <td>1</td>\n",
              "      <td>0</td>\n",
              "      <td>0</td>\n",
              "      <td>0</td>\n",
              "      <td>5720</td>\n",
              "      <td>0</td>\n",
              "      <td>110.0</td>\n",
              "      <td>360.0</td>\n",
              "      <td>1</td>\n",
              "      <td>2</td>\n",
              "      <td>5720</td>\n",
              "      <td>4.71</td>\n",
              "      <td>0.31</td>\n",
              "      <td>0.053409</td>\n",
              "      <td>0.053409</td>\n",
              "      <td>0.053419</td>\n",
              "    </tr>\n",
              "    <tr>\n",
              "      <th>1</th>\n",
              "      <td>1</td>\n",
              "      <td>1</td>\n",
              "      <td>1</td>\n",
              "      <td>0</td>\n",
              "      <td>0</td>\n",
              "      <td>3076</td>\n",
              "      <td>1500</td>\n",
              "      <td>126.0</td>\n",
              "      <td>360.0</td>\n",
              "      <td>1</td>\n",
              "      <td>2</td>\n",
              "      <td>4576</td>\n",
              "      <td>4.84</td>\n",
              "      <td>0.35</td>\n",
              "      <td>0.113747</td>\n",
              "      <td>0.076469</td>\n",
              "      <td>0.152972</td>\n",
              "    </tr>\n",
              "    <tr>\n",
              "      <th>2</th>\n",
              "      <td>1</td>\n",
              "      <td>1</td>\n",
              "      <td>2</td>\n",
              "      <td>0</td>\n",
              "      <td>0</td>\n",
              "      <td>5000</td>\n",
              "      <td>1800</td>\n",
              "      <td>208.0</td>\n",
              "      <td>360.0</td>\n",
              "      <td>1</td>\n",
              "      <td>2</td>\n",
              "      <td>6800</td>\n",
              "      <td>5.34</td>\n",
              "      <td>0.58</td>\n",
              "      <td>0.115532</td>\n",
              "      <td>0.084955</td>\n",
              "      <td>0.254902</td>\n",
              "    </tr>\n",
              "  </tbody>\n",
              "</table>\n",
              "</div>"
            ],
            "text/plain": [
              "   Gender  Married  ...  Cuota_Ingreso2  Cuota_Ingreso_Hijo\n",
              "0       1        1  ...        0.053409            0.053419\n",
              "1       1        1  ...        0.076469            0.152972\n",
              "2       1        1  ...        0.084955            0.254902\n",
              "\n",
              "[3 rows x 17 columns]"
            ]
          },
          "metadata": {
            "tags": []
          },
          "execution_count": 75
        }
      ]
    },
    {
      "cell_type": "code",
      "metadata": {
        "id": "BtF33xCkNnyz"
      },
      "source": [
        "dtest_split = xgb.DMatrix(df_scoring)"
      ],
      "execution_count": null,
      "outputs": []
    },
    {
      "cell_type": "code",
      "metadata": {
        "id": "whIF7iGuJ2E_",
        "colab": {
          "base_uri": "https://localhost:8080/",
          "height": 231
        },
        "outputId": "fa67cfc9-6560-4b52-edb2-41de2015a97a"
      },
      "source": [
        "# Predecimos con la data nueva\n",
        "y_scoring = xgb_fit.predict(dtest_split)\n",
        "# Convertir la probabilidad en clase\n",
        "for i in range(0,367):\n",
        "    if y_scoring[i]>=0.50:\n",
        "        y_scoring[i]=1\n",
        "    else:\n",
        "        y_scoring[i]=0\n",
        "# Predecimos sobre el set de datos de implementacion con el modelo entrenado\n",
        "#y_scoring = RegLog.predict(df_scoring) # Predecimos sobre nuevos clientes o clientes sin la variable dependiente VD\n",
        "# Juntamos el ID con la clase\n",
        "data = np.hstack((implemt['Loan_ID'].values.reshape(-1,1), y_scoring.reshape(-1,1)))\n",
        "# Le asignamos nombres a las columnas\n",
        "df_submmit = pd.DataFrame(data, columns=['Loan_ID','Loan_Status'])\n",
        "# Convertimos al formato solicitado por Analytics Vidhya\n",
        "df_submmit['Loan_Status']=[\"Y\" if i == 1 else \"N\" for i in df_submmit['Loan_Status']]\n",
        "# Exportamos la solucion\n",
        "df_submmit.to_csv('/content/drive/My Drive/DSW - MachineLearning/xgb.csv', index=False)"
      ],
      "execution_count": null,
      "outputs": [
        {
          "output_type": "error",
          "ename": "NameError",
          "evalue": "ignored",
          "traceback": [
            "\u001b[0;31m---------------------------------------------------------------------------\u001b[0m",
            "\u001b[0;31mNameError\u001b[0m                                 Traceback (most recent call last)",
            "\u001b[0;32m<ipython-input-1-d556a6909221>\u001b[0m in \u001b[0;36m<module>\u001b[0;34m()\u001b[0m\n\u001b[1;32m      1\u001b[0m \u001b[0;31m# Predecimos con la data nueva\u001b[0m\u001b[0;34m\u001b[0m\u001b[0;34m\u001b[0m\u001b[0;34m\u001b[0m\u001b[0m\n\u001b[0;32m----> 2\u001b[0;31m \u001b[0my_scoring\u001b[0m \u001b[0;34m=\u001b[0m \u001b[0mxgb_fit\u001b[0m\u001b[0;34m.\u001b[0m\u001b[0mpredict\u001b[0m\u001b[0;34m(\u001b[0m\u001b[0mdtest_split\u001b[0m\u001b[0;34m)\u001b[0m\u001b[0;34m\u001b[0m\u001b[0;34m\u001b[0m\u001b[0m\n\u001b[0m\u001b[1;32m      3\u001b[0m \u001b[0;31m# Convertir la probabilidad en clase\u001b[0m\u001b[0;34m\u001b[0m\u001b[0;34m\u001b[0m\u001b[0;34m\u001b[0m\u001b[0m\n\u001b[1;32m      4\u001b[0m \u001b[0;32mfor\u001b[0m \u001b[0mi\u001b[0m \u001b[0;32min\u001b[0m \u001b[0mrange\u001b[0m\u001b[0;34m(\u001b[0m\u001b[0;36m0\u001b[0m\u001b[0;34m,\u001b[0m\u001b[0;36m367\u001b[0m\u001b[0;34m)\u001b[0m\u001b[0;34m:\u001b[0m\u001b[0;34m\u001b[0m\u001b[0;34m\u001b[0m\u001b[0m\n\u001b[1;32m      5\u001b[0m     \u001b[0;32mif\u001b[0m \u001b[0my_scoring\u001b[0m\u001b[0;34m[\u001b[0m\u001b[0mi\u001b[0m\u001b[0;34m]\u001b[0m\u001b[0;34m>=\u001b[0m\u001b[0;36m0.50\u001b[0m\u001b[0;34m:\u001b[0m\u001b[0;34m\u001b[0m\u001b[0;34m\u001b[0m\u001b[0m\n",
            "\u001b[0;31mNameError\u001b[0m: name 'xgb_fit' is not defined"
          ]
        }
      ]
    },
    {
      "cell_type": "code",
      "metadata": {
        "id": "J6KAvMWYNmDH"
      },
      "source": [
        "# Listo , objetivo cumplido"
      ],
      "execution_count": null,
      "outputs": []
    },
    {
      "cell_type": "code",
      "metadata": {
        "id": "ApR7oek-NmDJ"
      },
      "source": [
        "# Fin !!"
      ],
      "execution_count": null,
      "outputs": []
    }
  ]
}